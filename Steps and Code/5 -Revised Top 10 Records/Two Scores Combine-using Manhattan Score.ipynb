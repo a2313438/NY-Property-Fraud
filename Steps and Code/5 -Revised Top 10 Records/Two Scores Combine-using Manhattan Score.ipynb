{
 "cells": [
  {
   "cell_type": "code",
   "execution_count": 1,
   "metadata": {},
   "outputs": [],
   "source": [
    "import pandas as pd\n",
    "import numpy as np\n",
    "import scipy.stats as sps "
   ]
  },
  {
   "cell_type": "markdown",
   "metadata": {},
   "source": [
    "combine the two scores"
   ]
  },
  {
   "cell_type": "code",
   "execution_count": 2,
   "metadata": {},
   "outputs": [],
   "source": [
    "zscore = pd.read_csv('zscore.csv')"
   ]
  },
  {
   "cell_type": "code",
   "execution_count": 3,
   "metadata": {},
   "outputs": [],
   "source": [
    "autoscore = pd.read_csv('autoscore.csv')"
   ]
  },
  {
   "cell_type": "code",
   "execution_count": 4,
   "metadata": {},
   "outputs": [],
   "source": [
    "scores = pd.merge(zscore,autoscore,left_on='RECORD',right_on='index')"
   ]
  },
  {
   "cell_type": "markdown",
   "metadata": {},
   "source": [
    "Add bin/rank columns"
   ]
  },
  {
   "cell_type": "code",
   "execution_count": 5,
   "metadata": {},
   "outputs": [],
   "source": [
    "del scores['Unnamed: 0_x']\n",
    "del scores['Unnamed: 0_y']\n",
    "del scores['index']\n",
    "del scores['Score2']"
   ]
  },
  {
   "cell_type": "code",
   "execution_count": 6,
   "metadata": {},
   "outputs": [],
   "source": [
    "temp = scores['Score1'].sort_values().reset_index()\n",
    "temp['RECORD'] = temp['index']+1\n",
    "del temp['index']"
   ]
  },
  {
   "cell_type": "code",
   "execution_count": 7,
   "metadata": {},
   "outputs": [],
   "source": [
    "temp = temp.reset_index()\n",
    "temp['manhattan_bin_score'] = temp['index']+1\n",
    "del temp['index']"
   ]
  },
  {
   "cell_type": "code",
   "execution_count": 8,
   "metadata": {},
   "outputs": [],
   "source": [
    "scores1 = pd.merge(scores,temp,left_on='RECORD',right_on='RECORD')\n",
    "del scores1['Score1_y']"
   ]
  },
  {
   "cell_type": "code",
   "execution_count": 9,
   "metadata": {},
   "outputs": [],
   "source": [
    "scores1.columns = (['RECORD','Score1','score_auto','manhattan_bin_score'])"
   ]
  },
  {
   "cell_type": "code",
   "execution_count": 10,
   "metadata": {},
   "outputs": [
    {
     "data": {
      "text/html": [
       "<div>\n",
       "<style scoped>\n",
       "    .dataframe tbody tr th:only-of-type {\n",
       "        vertical-align: middle;\n",
       "    }\n",
       "\n",
       "    .dataframe tbody tr th {\n",
       "        vertical-align: top;\n",
       "    }\n",
       "\n",
       "    .dataframe thead th {\n",
       "        text-align: right;\n",
       "    }\n",
       "</style>\n",
       "<table border=\"1\" class=\"dataframe\">\n",
       "  <thead>\n",
       "    <tr style=\"text-align: right;\">\n",
       "      <th></th>\n",
       "      <th>RECORD</th>\n",
       "      <th>Score1</th>\n",
       "      <th>score_auto</th>\n",
       "      <th>manhattan_bin_score</th>\n",
       "    </tr>\n",
       "  </thead>\n",
       "  <tbody>\n",
       "    <tr>\n",
       "      <th>185222</th>\n",
       "      <td>185223</td>\n",
       "      <td>0.159432</td>\n",
       "      <td>0.807662</td>\n",
       "      <td>1</td>\n",
       "    </tr>\n",
       "    <tr>\n",
       "      <th>200444</th>\n",
       "      <td>200445</td>\n",
       "      <td>0.166762</td>\n",
       "      <td>1.640552</td>\n",
       "      <td>2</td>\n",
       "    </tr>\n",
       "    <tr>\n",
       "      <th>184114</th>\n",
       "      <td>184115</td>\n",
       "      <td>0.166811</td>\n",
       "      <td>2.755366</td>\n",
       "      <td>3</td>\n",
       "    </tr>\n",
       "    <tr>\n",
       "      <th>184965</th>\n",
       "      <td>184966</td>\n",
       "      <td>0.174572</td>\n",
       "      <td>3.296350</td>\n",
       "      <td>4</td>\n",
       "    </tr>\n",
       "    <tr>\n",
       "      <th>878655</th>\n",
       "      <td>878656</td>\n",
       "      <td>0.176785</td>\n",
       "      <td>1.593520</td>\n",
       "      <td>5</td>\n",
       "    </tr>\n",
       "  </tbody>\n",
       "</table>\n",
       "</div>"
      ],
      "text/plain": [
       "        RECORD    Score1  score_auto  manhattan_bin_score\n",
       "185222  185223  0.159432    0.807662                    1\n",
       "200444  200445  0.166762    1.640552                    2\n",
       "184114  184115  0.166811    2.755366                    3\n",
       "184965  184966  0.174572    3.296350                    4\n",
       "878655  878656  0.176785    1.593520                    5"
      ]
     },
     "execution_count": 10,
     "metadata": {},
     "output_type": "execute_result"
    }
   ],
   "source": [
    "scores1.sort_values('manhattan_bin_score').head()"
   ]
  },
  {
   "cell_type": "code",
   "execution_count": 11,
   "metadata": {},
   "outputs": [],
   "source": [
    "temp = scores['score_auto'].sort_values().reset_index()\n",
    "temp['RECORD'] = temp['index']+1\n",
    "del temp['index']\n",
    "temp = temp.reset_index()\n",
    "temp['auto_bin_score'] = temp['index']+1\n",
    "del temp['index']\n"
   ]
  },
  {
   "cell_type": "code",
   "execution_count": 12,
   "metadata": {},
   "outputs": [],
   "source": [
    "final = pd.merge(scores1,temp,left_on='RECORD',right_on='RECORD')\n",
    "del final['score_auto_y']\n",
    "final.columns = (['RECORD','Score1','score_auto','manhattan_bin_score','auto_bin_score'])"
   ]
  },
  {
   "cell_type": "code",
   "execution_count": 13,
   "metadata": {},
   "outputs": [
    {
     "data": {
      "text/html": [
       "<div>\n",
       "<style scoped>\n",
       "    .dataframe tbody tr th:only-of-type {\n",
       "        vertical-align: middle;\n",
       "    }\n",
       "\n",
       "    .dataframe tbody tr th {\n",
       "        vertical-align: top;\n",
       "    }\n",
       "\n",
       "    .dataframe thead th {\n",
       "        text-align: right;\n",
       "    }\n",
       "</style>\n",
       "<table border=\"1\" class=\"dataframe\">\n",
       "  <thead>\n",
       "    <tr style=\"text-align: right;\">\n",
       "      <th></th>\n",
       "      <th>RECORD</th>\n",
       "      <th>Score1</th>\n",
       "      <th>score_auto</th>\n",
       "      <th>manhattan_bin_score</th>\n",
       "      <th>auto_bin_score</th>\n",
       "    </tr>\n",
       "  </thead>\n",
       "  <tbody>\n",
       "    <tr>\n",
       "      <th>0</th>\n",
       "      <td>1</td>\n",
       "      <td>20.893195</td>\n",
       "      <td>21.615629</td>\n",
       "      <td>1069363</td>\n",
       "      <td>1069420</td>\n",
       "    </tr>\n",
       "    <tr>\n",
       "      <th>1</th>\n",
       "      <td>2</td>\n",
       "      <td>31.238281</td>\n",
       "      <td>31.218499</td>\n",
       "      <td>1070096</td>\n",
       "      <td>1070079</td>\n",
       "    </tr>\n",
       "    <tr>\n",
       "      <th>2</th>\n",
       "      <td>3</td>\n",
       "      <td>21.162240</td>\n",
       "      <td>21.267942</td>\n",
       "      <td>1069397</td>\n",
       "      <td>1069367</td>\n",
       "    </tr>\n",
       "    <tr>\n",
       "      <th>3</th>\n",
       "      <td>4</td>\n",
       "      <td>17.416420</td>\n",
       "      <td>16.688151</td>\n",
       "      <td>1068747</td>\n",
       "      <td>1068481</td>\n",
       "    </tr>\n",
       "    <tr>\n",
       "      <th>4</th>\n",
       "      <td>5</td>\n",
       "      <td>83.847093</td>\n",
       "      <td>83.136734</td>\n",
       "      <td>1070704</td>\n",
       "      <td>1070701</td>\n",
       "    </tr>\n",
       "  </tbody>\n",
       "</table>\n",
       "</div>"
      ],
      "text/plain": [
       "   RECORD     Score1  score_auto  manhattan_bin_score  auto_bin_score\n",
       "0       1  20.893195   21.615629              1069363         1069420\n",
       "1       2  31.238281   31.218499              1070096         1070079\n",
       "2       3  21.162240   21.267942              1069397         1069367\n",
       "3       4  17.416420   16.688151              1068747         1068481\n",
       "4       5  83.847093   83.136734              1070704         1070701"
      ]
     },
     "execution_count": 13,
     "metadata": {},
     "output_type": "execute_result"
    }
   ],
   "source": [
    "final.head()"
   ]
  },
  {
   "cell_type": "markdown",
   "metadata": {},
   "source": [
    "Add weighted score\n"
   ]
  },
  {
   "cell_type": "code",
   "execution_count": 14,
   "metadata": {},
   "outputs": [],
   "source": [
    "final['weightedscore']=0.5*final['manhattan_bin_score']+0.5*final['auto_bin_score']"
   ]
  },
  {
   "cell_type": "code",
   "execution_count": 15,
   "metadata": {},
   "outputs": [
    {
     "data": {
      "text/html": [
       "<div>\n",
       "<style scoped>\n",
       "    .dataframe tbody tr th:only-of-type {\n",
       "        vertical-align: middle;\n",
       "    }\n",
       "\n",
       "    .dataframe tbody tr th {\n",
       "        vertical-align: top;\n",
       "    }\n",
       "\n",
       "    .dataframe thead th {\n",
       "        text-align: right;\n",
       "    }\n",
       "</style>\n",
       "<table border=\"1\" class=\"dataframe\">\n",
       "  <thead>\n",
       "    <tr style=\"text-align: right;\">\n",
       "      <th></th>\n",
       "      <th>RECORD</th>\n",
       "      <th>Score1</th>\n",
       "      <th>score_auto</th>\n",
       "      <th>manhattan_bin_score</th>\n",
       "      <th>auto_bin_score</th>\n",
       "      <th>weightedscore</th>\n",
       "    </tr>\n",
       "  </thead>\n",
       "  <tbody>\n",
       "    <tr>\n",
       "      <th>714599</th>\n",
       "      <td>714600</td>\n",
       "      <td>0.701197</td>\n",
       "      <td>0.093585</td>\n",
       "      <td>17628</td>\n",
       "      <td>6693</td>\n",
       "      <td>12160.5</td>\n",
       "    </tr>\n",
       "    <tr>\n",
       "      <th>383627</th>\n",
       "      <td>383628</td>\n",
       "      <td>0.640804</td>\n",
       "      <td>0.115492</td>\n",
       "      <td>12622</td>\n",
       "      <td>14522</td>\n",
       "      <td>13572.0</td>\n",
       "    </tr>\n",
       "    <tr>\n",
       "      <th>362833</th>\n",
       "      <td>362834</td>\n",
       "      <td>0.771293</td>\n",
       "      <td>0.066223</td>\n",
       "      <td>27921</td>\n",
       "      <td>1439</td>\n",
       "      <td>14680.0</td>\n",
       "    </tr>\n",
       "    <tr>\n",
       "      <th>376289</th>\n",
       "      <td>376290</td>\n",
       "      <td>0.808918</td>\n",
       "      <td>0.062823</td>\n",
       "      <td>32141</td>\n",
       "      <td>1094</td>\n",
       "      <td>16617.5</td>\n",
       "    </tr>\n",
       "    <tr>\n",
       "      <th>275294</th>\n",
       "      <td>275295</td>\n",
       "      <td>0.653222</td>\n",
       "      <td>0.128400</td>\n",
       "      <td>13426</td>\n",
       "      <td>20306</td>\n",
       "      <td>16866.0</td>\n",
       "    </tr>\n",
       "  </tbody>\n",
       "</table>\n",
       "</div>"
      ],
      "text/plain": [
       "        RECORD    Score1  score_auto  manhattan_bin_score  auto_bin_score  \\\n",
       "714599  714600  0.701197    0.093585                17628            6693   \n",
       "383627  383628  0.640804    0.115492                12622           14522   \n",
       "362833  362834  0.771293    0.066223                27921            1439   \n",
       "376289  376290  0.808918    0.062823                32141            1094   \n",
       "275294  275295  0.653222    0.128400                13426           20306   \n",
       "\n",
       "        weightedscore  \n",
       "714599        12160.5  \n",
       "383627        13572.0  \n",
       "362833        14680.0  \n",
       "376289        16617.5  \n",
       "275294        16866.0  "
      ]
     },
     "execution_count": 15,
     "metadata": {},
     "output_type": "execute_result"
    }
   ],
   "source": [
    "final.sort_values('weightedscore').head()\n"
   ]
  },
  {
   "cell_type": "code",
   "execution_count": 16,
   "metadata": {},
   "outputs": [
    {
     "data": {
      "text/html": [
       "<div>\n",
       "<style scoped>\n",
       "    .dataframe tbody tr th:only-of-type {\n",
       "        vertical-align: middle;\n",
       "    }\n",
       "\n",
       "    .dataframe tbody tr th {\n",
       "        vertical-align: top;\n",
       "    }\n",
       "\n",
       "    .dataframe thead th {\n",
       "        text-align: right;\n",
       "    }\n",
       "</style>\n",
       "<table border=\"1\" class=\"dataframe\">\n",
       "  <thead>\n",
       "    <tr style=\"text-align: right;\">\n",
       "      <th></th>\n",
       "      <th>RECORD</th>\n",
       "      <th>Score1</th>\n",
       "      <th>score_auto</th>\n",
       "      <th>manhattan_bin_score</th>\n",
       "      <th>auto_bin_score</th>\n",
       "      <th>weightedscore</th>\n",
       "    </tr>\n",
       "  </thead>\n",
       "  <tbody>\n",
       "    <tr>\n",
       "      <th>449924</th>\n",
       "      <td>449925</td>\n",
       "      <td>1.196094</td>\n",
       "      <td>0.020411</td>\n",
       "      <td>473262</td>\n",
       "      <td>1</td>\n",
       "      <td>236631.5</td>\n",
       "    </tr>\n",
       "    <tr>\n",
       "      <th>398714</th>\n",
       "      <td>398715</td>\n",
       "      <td>1.114693</td>\n",
       "      <td>0.021359</td>\n",
       "      <td>295233</td>\n",
       "      <td>2</td>\n",
       "      <td>147617.5</td>\n",
       "    </tr>\n",
       "    <tr>\n",
       "      <th>833631</th>\n",
       "      <td>833632</td>\n",
       "      <td>1.078294</td>\n",
       "      <td>0.021545</td>\n",
       "      <td>208740</td>\n",
       "      <td>3</td>\n",
       "      <td>104371.5</td>\n",
       "    </tr>\n",
       "    <tr>\n",
       "      <th>242016</th>\n",
       "      <td>242017</td>\n",
       "      <td>1.048296</td>\n",
       "      <td>0.023378</td>\n",
       "      <td>141141</td>\n",
       "      <td>4</td>\n",
       "      <td>70572.5</td>\n",
       "    </tr>\n",
       "    <tr>\n",
       "      <th>675614</th>\n",
       "      <td>675615</td>\n",
       "      <td>1.144695</td>\n",
       "      <td>0.023743</td>\n",
       "      <td>362100</td>\n",
       "      <td>5</td>\n",
       "      <td>181052.5</td>\n",
       "    </tr>\n",
       "  </tbody>\n",
       "</table>\n",
       "</div>"
      ],
      "text/plain": [
       "        RECORD    Score1  score_auto  manhattan_bin_score  auto_bin_score  \\\n",
       "449924  449925  1.196094    0.020411               473262               1   \n",
       "398714  398715  1.114693    0.021359               295233               2   \n",
       "833631  833632  1.078294    0.021545               208740               3   \n",
       "242016  242017  1.048296    0.023378               141141               4   \n",
       "675614  675615  1.144695    0.023743               362100               5   \n",
       "\n",
       "        weightedscore  \n",
       "449924       236631.5  \n",
       "398714       147617.5  \n",
       "833631       104371.5  \n",
       "242016        70572.5  \n",
       "675614       181052.5  "
      ]
     },
     "execution_count": 16,
     "metadata": {},
     "output_type": "execute_result"
    }
   ],
   "source": [
    "final.sort_values('auto_bin_score').head()"
   ]
  },
  {
   "cell_type": "code",
   "execution_count": 17,
   "metadata": {},
   "outputs": [
    {
     "data": {
      "text/html": [
       "<div>\n",
       "<style scoped>\n",
       "    .dataframe tbody tr th:only-of-type {\n",
       "        vertical-align: middle;\n",
       "    }\n",
       "\n",
       "    .dataframe tbody tr th {\n",
       "        vertical-align: top;\n",
       "    }\n",
       "\n",
       "    .dataframe thead th {\n",
       "        text-align: right;\n",
       "    }\n",
       "</style>\n",
       "<table border=\"1\" class=\"dataframe\">\n",
       "  <thead>\n",
       "    <tr style=\"text-align: right;\">\n",
       "      <th></th>\n",
       "      <th>RECORD</th>\n",
       "      <th>Score1</th>\n",
       "      <th>score_auto</th>\n",
       "      <th>manhattan_bin_score</th>\n",
       "      <th>auto_bin_score</th>\n",
       "      <th>weightedscore</th>\n",
       "    </tr>\n",
       "  </thead>\n",
       "  <tbody>\n",
       "    <tr>\n",
       "      <th>185222</th>\n",
       "      <td>185223</td>\n",
       "      <td>0.159432</td>\n",
       "      <td>0.807662</td>\n",
       "      <td>1</td>\n",
       "      <td>373725</td>\n",
       "      <td>186863.0</td>\n",
       "    </tr>\n",
       "    <tr>\n",
       "      <th>200444</th>\n",
       "      <td>200445</td>\n",
       "      <td>0.166762</td>\n",
       "      <td>1.640552</td>\n",
       "      <td>2</td>\n",
       "      <td>512885</td>\n",
       "      <td>256443.5</td>\n",
       "    </tr>\n",
       "    <tr>\n",
       "      <th>184114</th>\n",
       "      <td>184115</td>\n",
       "      <td>0.166811</td>\n",
       "      <td>2.755366</td>\n",
       "      <td>3</td>\n",
       "      <td>666049</td>\n",
       "      <td>333026.0</td>\n",
       "    </tr>\n",
       "    <tr>\n",
       "      <th>184965</th>\n",
       "      <td>184966</td>\n",
       "      <td>0.174572</td>\n",
       "      <td>3.296350</td>\n",
       "      <td>4</td>\n",
       "      <td>717616</td>\n",
       "      <td>358810.0</td>\n",
       "    </tr>\n",
       "    <tr>\n",
       "      <th>878655</th>\n",
       "      <td>878656</td>\n",
       "      <td>0.176785</td>\n",
       "      <td>1.593520</td>\n",
       "      <td>5</td>\n",
       "      <td>507790</td>\n",
       "      <td>253897.5</td>\n",
       "    </tr>\n",
       "  </tbody>\n",
       "</table>\n",
       "</div>"
      ],
      "text/plain": [
       "        RECORD    Score1  score_auto  manhattan_bin_score  auto_bin_score  \\\n",
       "185222  185223  0.159432    0.807662                    1          373725   \n",
       "200444  200445  0.166762    1.640552                    2          512885   \n",
       "184114  184115  0.166811    2.755366                    3          666049   \n",
       "184965  184966  0.174572    3.296350                    4          717616   \n",
       "878655  878656  0.176785    1.593520                    5          507790   \n",
       "\n",
       "        weightedscore  \n",
       "185222       186863.0  \n",
       "200444       256443.5  \n",
       "184114       333026.0  \n",
       "184965       358810.0  \n",
       "878655       253897.5  "
      ]
     },
     "execution_count": 17,
     "metadata": {},
     "output_type": "execute_result"
    }
   ],
   "source": [
    "final.sort_values('manhattan_bin_score').head()"
   ]
  },
  {
   "cell_type": "markdown",
   "metadata": {},
   "source": [
    "merge the weightedscore with the filled dataset"
   ]
  },
  {
   "cell_type": "code",
   "execution_count": 18,
   "metadata": {},
   "outputs": [],
   "source": [
    "temp = final[['RECORD','manhattan_bin_score','auto_bin_score','weightedscore']]"
   ]
  },
  {
   "cell_type": "code",
   "execution_count": 19,
   "metadata": {},
   "outputs": [],
   "source": [
    "data = pd.read_csv('NY property data_FILLED_update.csv')"
   ]
  },
  {
   "cell_type": "code",
   "execution_count": 20,
   "metadata": {},
   "outputs": [],
   "source": [
    "del data['Unnamed: 0']\n",
    "del data['Unnamed: 0.1']\n",
    "del data['Unnamed: 0.1.1']"
   ]
  },
  {
   "cell_type": "code",
   "execution_count": 21,
   "metadata": {},
   "outputs": [],
   "source": [
    "mergeddata = pd.merge(data,temp,left_on='RECORD',right_on='RECORD')"
   ]
  },
  {
   "cell_type": "code",
   "execution_count": 22,
   "metadata": {},
   "outputs": [
    {
     "data": {
      "text/html": [
       "<div>\n",
       "<style scoped>\n",
       "    .dataframe tbody tr th:only-of-type {\n",
       "        vertical-align: middle;\n",
       "    }\n",
       "\n",
       "    .dataframe tbody tr th {\n",
       "        vertical-align: top;\n",
       "    }\n",
       "\n",
       "    .dataframe thead th {\n",
       "        text-align: right;\n",
       "    }\n",
       "</style>\n",
       "<table border=\"1\" class=\"dataframe\">\n",
       "  <thead>\n",
       "    <tr style=\"text-align: right;\">\n",
       "      <th></th>\n",
       "      <th>RECORD</th>\n",
       "      <th>BBLE</th>\n",
       "      <th>B</th>\n",
       "      <th>BLOCK</th>\n",
       "      <th>LOT</th>\n",
       "      <th>EASEMENT</th>\n",
       "      <th>OWNER</th>\n",
       "      <th>BLDGCL</th>\n",
       "      <th>TAXCLASS</th>\n",
       "      <th>LTFRONT</th>\n",
       "      <th>...</th>\n",
       "      <th>meanFULLVAL</th>\n",
       "      <th>meanAVLAND</th>\n",
       "      <th>meanAVTOT</th>\n",
       "      <th>medianLTFRONT</th>\n",
       "      <th>medianLTDEPTH</th>\n",
       "      <th>medianBLDFRONT</th>\n",
       "      <th>medianBLDDEPTH</th>\n",
       "      <th>manhattan_bin_score</th>\n",
       "      <th>auto_bin_score</th>\n",
       "      <th>weightedscore</th>\n",
       "    </tr>\n",
       "  </thead>\n",
       "  <tbody>\n",
       "    <tr>\n",
       "      <th>0</th>\n",
       "      <td>1</td>\n",
       "      <td>1000010101</td>\n",
       "      <td>1</td>\n",
       "      <td>1</td>\n",
       "      <td>101</td>\n",
       "      <td>NaN</td>\n",
       "      <td>U S GOVT LAND &amp; BLDGS</td>\n",
       "      <td>P7</td>\n",
       "      <td>4</td>\n",
       "      <td>500.0</td>\n",
       "      <td>...</td>\n",
       "      <td>6859012.0</td>\n",
       "      <td>1228817.0</td>\n",
       "      <td>3062656.0</td>\n",
       "      <td>223.0</td>\n",
       "      <td>53.0</td>\n",
       "      <td>132.0</td>\n",
       "      <td>75.0</td>\n",
       "      <td>1069363</td>\n",
       "      <td>1069420</td>\n",
       "      <td>1069391.5</td>\n",
       "    </tr>\n",
       "    <tr>\n",
       "      <th>1</th>\n",
       "      <td>2</td>\n",
       "      <td>1000010201</td>\n",
       "      <td>1</td>\n",
       "      <td>1</td>\n",
       "      <td>201</td>\n",
       "      <td>NaN</td>\n",
       "      <td>U S GOVT LAND &amp; BLDGS</td>\n",
       "      <td>Z9</td>\n",
       "      <td>4</td>\n",
       "      <td>27.0</td>\n",
       "      <td>...</td>\n",
       "      <td>6859012.0</td>\n",
       "      <td>1228817.0</td>\n",
       "      <td>3062656.0</td>\n",
       "      <td>223.0</td>\n",
       "      <td>53.0</td>\n",
       "      <td>132.0</td>\n",
       "      <td>75.0</td>\n",
       "      <td>1070096</td>\n",
       "      <td>1070079</td>\n",
       "      <td>1070087.5</td>\n",
       "    </tr>\n",
       "    <tr>\n",
       "      <th>2</th>\n",
       "      <td>3</td>\n",
       "      <td>1000020001</td>\n",
       "      <td>1</td>\n",
       "      <td>2</td>\n",
       "      <td>1</td>\n",
       "      <td>NaN</td>\n",
       "      <td>DEPT OF GENERAL SERVI</td>\n",
       "      <td>Y7</td>\n",
       "      <td>4</td>\n",
       "      <td>709.0</td>\n",
       "      <td>...</td>\n",
       "      <td>6859012.0</td>\n",
       "      <td>1228817.0</td>\n",
       "      <td>3062656.0</td>\n",
       "      <td>223.0</td>\n",
       "      <td>53.0</td>\n",
       "      <td>132.0</td>\n",
       "      <td>75.0</td>\n",
       "      <td>1069397</td>\n",
       "      <td>1069367</td>\n",
       "      <td>1069382.0</td>\n",
       "    </tr>\n",
       "    <tr>\n",
       "      <th>3</th>\n",
       "      <td>4</td>\n",
       "      <td>1000020023</td>\n",
       "      <td>1</td>\n",
       "      <td>2</td>\n",
       "      <td>23</td>\n",
       "      <td>NaN</td>\n",
       "      <td>DEPARTMENT OF BUSINES</td>\n",
       "      <td>T2</td>\n",
       "      <td>4</td>\n",
       "      <td>793.0</td>\n",
       "      <td>...</td>\n",
       "      <td>6859012.0</td>\n",
       "      <td>1228817.0</td>\n",
       "      <td>3062656.0</td>\n",
       "      <td>223.0</td>\n",
       "      <td>53.0</td>\n",
       "      <td>132.0</td>\n",
       "      <td>75.0</td>\n",
       "      <td>1068747</td>\n",
       "      <td>1068481</td>\n",
       "      <td>1068614.0</td>\n",
       "    </tr>\n",
       "    <tr>\n",
       "      <th>4</th>\n",
       "      <td>5</td>\n",
       "      <td>1000030001</td>\n",
       "      <td>1</td>\n",
       "      <td>3</td>\n",
       "      <td>1</td>\n",
       "      <td>NaN</td>\n",
       "      <td>PARKS AND RECREATION</td>\n",
       "      <td>Q1</td>\n",
       "      <td>4</td>\n",
       "      <td>323.0</td>\n",
       "      <td>...</td>\n",
       "      <td>6859012.0</td>\n",
       "      <td>1228817.0</td>\n",
       "      <td>3062656.0</td>\n",
       "      <td>223.0</td>\n",
       "      <td>53.0</td>\n",
       "      <td>132.0</td>\n",
       "      <td>75.0</td>\n",
       "      <td>1070704</td>\n",
       "      <td>1070701</td>\n",
       "      <td>1070702.5</td>\n",
       "    </tr>\n",
       "  </tbody>\n",
       "</table>\n",
       "<p>5 rows × 43 columns</p>\n",
       "</div>"
      ],
      "text/plain": [
       "   RECORD        BBLE  B  BLOCK  LOT EASEMENT                  OWNER BLDGCL  \\\n",
       "0       1  1000010101  1      1  101      NaN  U S GOVT LAND & BLDGS     P7   \n",
       "1       2  1000010201  1      1  201      NaN  U S GOVT LAND & BLDGS     Z9   \n",
       "2       3  1000020001  1      2    1      NaN  DEPT OF GENERAL SERVI     Y7   \n",
       "3       4  1000020023  1      2   23      NaN  DEPARTMENT OF BUSINES     T2   \n",
       "4       5  1000030001  1      3    1      NaN   PARKS AND RECREATION     Q1   \n",
       "\n",
       "  TAXCLASS  LTFRONT      ...       meanFULLVAL meanAVLAND  meanAVTOT  \\\n",
       "0        4    500.0      ...         6859012.0  1228817.0  3062656.0   \n",
       "1        4     27.0      ...         6859012.0  1228817.0  3062656.0   \n",
       "2        4    709.0      ...         6859012.0  1228817.0  3062656.0   \n",
       "3        4    793.0      ...         6859012.0  1228817.0  3062656.0   \n",
       "4        4    323.0      ...         6859012.0  1228817.0  3062656.0   \n",
       "\n",
       "   medianLTFRONT  medianLTDEPTH  medianBLDFRONT  medianBLDDEPTH  \\\n",
       "0          223.0           53.0           132.0            75.0   \n",
       "1          223.0           53.0           132.0            75.0   \n",
       "2          223.0           53.0           132.0            75.0   \n",
       "3          223.0           53.0           132.0            75.0   \n",
       "4          223.0           53.0           132.0            75.0   \n",
       "\n",
       "   manhattan_bin_score  auto_bin_score weightedscore  \n",
       "0              1069363         1069420     1069391.5  \n",
       "1              1070096         1070079     1070087.5  \n",
       "2              1069397         1069367     1069382.0  \n",
       "3              1068747         1068481     1068614.0  \n",
       "4              1070704         1070701     1070702.5  \n",
       "\n",
       "[5 rows x 43 columns]"
      ]
     },
     "execution_count": 22,
     "metadata": {},
     "output_type": "execute_result"
    }
   ],
   "source": [
    "mergeddata.head()"
   ]
  },
  {
   "cell_type": "code",
   "execution_count": 34,
   "metadata": {},
   "outputs": [
    {
     "data": {
      "text/plain": [
       "632815     1070994.0\n",
       "565391     1070993.0\n",
       "585117     1070992.0\n",
       "1067359    1070991.0\n",
       "585438     1070990.0\n",
       "85885      1070989.0\n",
       "585119     1070988.0\n",
       "920627     1070987.0\n",
       "935157     1070986.0\n",
       "565397     1070985.0\n",
       "Name: weightedscore, dtype: float64"
      ]
     },
     "execution_count": 34,
     "metadata": {},
     "output_type": "execute_result"
    }
   ],
   "source": [
    "mergeddata['weightedscore'].sort_values(ascending=False).head(10)"
   ]
  },
  {
   "cell_type": "markdown",
   "metadata": {},
   "source": [
    "Filter the weild records"
   ]
  },
  {
   "cell_type": "code",
   "execution_count": 69,
   "metadata": {
    "scrolled": true
   },
   "outputs": [
    {
     "data": {
      "text/html": [
       "<div>\n",
       "<style scoped>\n",
       "    .dataframe tbody tr th:only-of-type {\n",
       "        vertical-align: middle;\n",
       "    }\n",
       "\n",
       "    .dataframe tbody tr th {\n",
       "        vertical-align: top;\n",
       "    }\n",
       "\n",
       "    .dataframe thead th {\n",
       "        text-align: right;\n",
       "    }\n",
       "</style>\n",
       "<table border=\"1\" class=\"dataframe\">\n",
       "  <thead>\n",
       "    <tr style=\"text-align: right;\">\n",
       "      <th></th>\n",
       "      <th>RECORD</th>\n",
       "    </tr>\n",
       "  </thead>\n",
       "  <tbody>\n",
       "    <tr>\n",
       "      <th>85885</th>\n",
       "      <td>85886</td>\n",
       "    </tr>\n",
       "    <tr>\n",
       "      <th>565391</th>\n",
       "      <td>565392</td>\n",
       "    </tr>\n",
       "    <tr>\n",
       "      <th>565397</th>\n",
       "      <td>565398</td>\n",
       "    </tr>\n",
       "    <tr>\n",
       "      <th>585117</th>\n",
       "      <td>585118</td>\n",
       "    </tr>\n",
       "    <tr>\n",
       "      <th>585119</th>\n",
       "      <td>585120</td>\n",
       "    </tr>\n",
       "    <tr>\n",
       "      <th>585438</th>\n",
       "      <td>585439</td>\n",
       "    </tr>\n",
       "    <tr>\n",
       "      <th>632815</th>\n",
       "      <td>632816</td>\n",
       "    </tr>\n",
       "    <tr>\n",
       "      <th>920627</th>\n",
       "      <td>920628</td>\n",
       "    </tr>\n",
       "    <tr>\n",
       "      <th>935157</th>\n",
       "      <td>935158</td>\n",
       "    </tr>\n",
       "    <tr>\n",
       "      <th>1067359</th>\n",
       "      <td>1067360</td>\n",
       "    </tr>\n",
       "  </tbody>\n",
       "</table>\n",
       "</div>"
      ],
      "text/plain": [
       "          RECORD\n",
       "85885      85886\n",
       "565391    565392\n",
       "565397    565398\n",
       "585117    585118\n",
       "585119    585120\n",
       "585438    585439\n",
       "632815    632816\n",
       "920627    920628\n",
       "935157    935158\n",
       "1067359  1067360"
      ]
     },
     "execution_count": 69,
     "metadata": {},
     "output_type": "execute_result"
    }
   ],
   "source": [
    "weird = mergeddata[mergeddata['weightedscore']>=1070985]\n",
    "weird[['RECORD']]"
   ]
  },
  {
   "cell_type": "markdown",
   "metadata": {},
   "source": [
    "Check whether the FULLVAL/AVLAND/AVTOT/ZIP/STORIES value were NAN in the original dataset\n",
    "\n"
   ]
  },
  {
   "cell_type": "code",
   "execution_count": 27,
   "metadata": {},
   "outputs": [],
   "source": [
    "notfill =  pd.read_csv('NY property data.csv')"
   ]
  },
  {
   "cell_type": "code",
   "execution_count": 73,
   "metadata": {},
   "outputs": [],
   "source": [
    "fill = pd.read_csv('NY property data_filled_Revised.csv')"
   ]
  },
  {
   "cell_type": "code",
   "execution_count": 72,
   "metadata": {},
   "outputs": [],
   "source": [
    "top10_origin=notfill[value['RECORD'].isin(weird['RECORD'])]\n",
    "pd.DataFrame(top10_origin).to_csv('top10_origin.csv')"
   ]
  },
  {
   "cell_type": "code",
   "execution_count": 74,
   "metadata": {},
   "outputs": [],
   "source": [
    "top10_filled=fill[value['RECORD'].isin(weird['RECORD'])]\n",
    "pd.DataFrame(top10_filled).to_csv('top10_filled.csv')"
   ]
  },
  {
   "cell_type": "code",
   "execution_count": 29,
   "metadata": {},
   "outputs": [
    {
     "data": {
      "text/html": [
       "<div>\n",
       "<style scoped>\n",
       "    .dataframe tbody tr th:only-of-type {\n",
       "        vertical-align: middle;\n",
       "    }\n",
       "\n",
       "    .dataframe tbody tr th {\n",
       "        vertical-align: top;\n",
       "    }\n",
       "\n",
       "    .dataframe thead th {\n",
       "        text-align: right;\n",
       "    }\n",
       "</style>\n",
       "<table border=\"1\" class=\"dataframe\">\n",
       "  <thead>\n",
       "    <tr style=\"text-align: right;\">\n",
       "      <th></th>\n",
       "      <th>FULLVAL</th>\n",
       "      <th>AVLAND</th>\n",
       "      <th>AVTOT</th>\n",
       "      <th>ZIP</th>\n",
       "      <th>STORIES</th>\n",
       "    </tr>\n",
       "  </thead>\n",
       "  <tbody>\n",
       "    <tr>\n",
       "      <th>684703</th>\n",
       "      <td>0.0</td>\n",
       "      <td>0.0</td>\n",
       "      <td>0.0</td>\n",
       "      <td>NaN</td>\n",
       "      <td>NaN</td>\n",
       "    </tr>\n",
       "  </tbody>\n",
       "</table>\n",
       "</div>"
      ],
      "text/plain": [
       "        FULLVAL  AVLAND  AVTOT  ZIP  STORIES\n",
       "684703      0.0     0.0    0.0  NaN      NaN"
      ]
     },
     "execution_count": 29,
     "metadata": {},
     "output_type": "execute_result"
    }
   ],
   "source": [
    "notfill[['FULLVAL','AVLAND','AVTOT','ZIP','STORIES']][value['RECORD']==684704 ]"
   ]
  },
  {
   "cell_type": "code",
   "execution_count": 30,
   "metadata": {},
   "outputs": [
    {
     "data": {
      "text/html": [
       "<div>\n",
       "<style scoped>\n",
       "    .dataframe tbody tr th:only-of-type {\n",
       "        vertical-align: middle;\n",
       "    }\n",
       "\n",
       "    .dataframe tbody tr th {\n",
       "        vertical-align: top;\n",
       "    }\n",
       "\n",
       "    .dataframe thead th {\n",
       "        text-align: right;\n",
       "    }\n",
       "</style>\n",
       "<table border=\"1\" class=\"dataframe\">\n",
       "  <thead>\n",
       "    <tr style=\"text-align: right;\">\n",
       "      <th></th>\n",
       "      <th>FULLVAL</th>\n",
       "      <th>AVLAND</th>\n",
       "      <th>AVTOT</th>\n",
       "      <th>ZIP</th>\n",
       "      <th>STORIES</th>\n",
       "    </tr>\n",
       "  </thead>\n",
       "  <tbody>\n",
       "    <tr>\n",
       "      <th>776305</th>\n",
       "      <td>0.0</td>\n",
       "      <td>0.0</td>\n",
       "      <td>0.0</td>\n",
       "      <td>NaN</td>\n",
       "      <td>1.0</td>\n",
       "    </tr>\n",
       "  </tbody>\n",
       "</table>\n",
       "</div>"
      ],
      "text/plain": [
       "        FULLVAL  AVLAND  AVTOT  ZIP  STORIES\n",
       "776305      0.0     0.0    0.0  NaN      1.0"
      ]
     },
     "execution_count": 30,
     "metadata": {},
     "output_type": "execute_result"
    }
   ],
   "source": [
    "notfill[['FULLVAL','AVLAND','AVTOT','ZIP','STORIES']][value['RECORD']==776306 ]"
   ]
  },
  {
   "cell_type": "code",
   "execution_count": 31,
   "metadata": {
    "scrolled": true
   },
   "outputs": [
    {
     "data": {
      "text/html": [
       "<div>\n",
       "<style scoped>\n",
       "    .dataframe tbody tr th:only-of-type {\n",
       "        vertical-align: middle;\n",
       "    }\n",
       "\n",
       "    .dataframe tbody tr th {\n",
       "        vertical-align: top;\n",
       "    }\n",
       "\n",
       "    .dataframe thead th {\n",
       "        text-align: right;\n",
       "    }\n",
       "</style>\n",
       "<table border=\"1\" class=\"dataframe\">\n",
       "  <thead>\n",
       "    <tr style=\"text-align: right;\">\n",
       "      <th></th>\n",
       "      <th>FULLVAL</th>\n",
       "      <th>AVLAND</th>\n",
       "      <th>AVTOT</th>\n",
       "      <th>ZIP</th>\n",
       "      <th>STORIES</th>\n",
       "    </tr>\n",
       "  </thead>\n",
       "  <tbody>\n",
       "    <tr>\n",
       "      <th>821852</th>\n",
       "      <td>0.0</td>\n",
       "      <td>0.0</td>\n",
       "      <td>0.0</td>\n",
       "      <td>NaN</td>\n",
       "      <td>NaN</td>\n",
       "    </tr>\n",
       "  </tbody>\n",
       "</table>\n",
       "</div>"
      ],
      "text/plain": [
       "        FULLVAL  AVLAND  AVTOT  ZIP  STORIES\n",
       "821852      0.0     0.0    0.0  NaN      NaN"
      ]
     },
     "execution_count": 31,
     "metadata": {},
     "output_type": "execute_result"
    }
   ],
   "source": [
    "notfill[['FULLVAL','AVLAND','AVTOT','ZIP','STORIES']][value['RECORD']==821853 ]"
   ]
  },
  {
   "cell_type": "code",
   "execution_count": null,
   "metadata": {},
   "outputs": [],
   "source": []
  }
 ],
 "metadata": {
  "kernelspec": {
   "display_name": "Python 3",
   "language": "python",
   "name": "python3"
  },
  "language_info": {
   "codemirror_mode": {
    "name": "ipython",
    "version": 3
   },
   "file_extension": ".py",
   "mimetype": "text/x-python",
   "name": "python",
   "nbconvert_exporter": "python",
   "pygments_lexer": "ipython3",
   "version": "3.6.5"
  }
 },
 "nbformat": 4,
 "nbformat_minor": 2
}
