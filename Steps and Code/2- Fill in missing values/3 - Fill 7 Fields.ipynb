{
 "cells": [
  {
   "cell_type": "code",
   "execution_count": 1,
   "metadata": {},
   "outputs": [],
   "source": [
    "import pandas as pd\n",
    "import numpy as np\n",
    "import scipy.stats as sps\n",
    "import matplotlib.pyplot as plt\n",
    "import seaborn as sns\n",
    "import sklearn as skl\n",
    "from sklearn import preprocessing\n",
    "import math\n",
    "%matplotlib inline"
   ]
  },
  {
   "cell_type": "code",
   "execution_count": 2,
   "metadata": {},
   "outputs": [
    {
     "name": "stdout",
     "output_type": "stream",
     "text": [
      "Wall time: 4.47 s\n"
     ]
    }
   ],
   "source": [
    "%%time\n",
    "mydata = pd.read_csv('NY property data_zip_stories.csv')"
   ]
  },
  {
   "cell_type": "markdown",
   "metadata": {},
   "source": [
    "1. Refill the FULLVAL, AVLAND, AVTOT, add new classifier: the maximum of (LTFRONT, LTDEPTH, BLDFRONT and BLDDEPTH) \n",
    "\n",
    "2. Refill the LTFRONT, LTDEPTH, BLDFRONT, BLDDEPTH, add new classifier: the bin_value of the mean of (FULLVAL, AVLAND, AVTOT)\n"
   ]
  },
  {
   "cell_type": "markdown",
   "metadata": {},
   "source": [
    "一、FULLVAL"
   ]
  },
  {
   "cell_type": "markdown",
   "metadata": {},
   "source": [
    "Turn 0s into NAN"
   ]
  },
  {
   "cell_type": "code",
   "execution_count": 3,
   "metadata": {},
   "outputs": [
    {
     "data": {
      "text/plain": [
       "False    1057987\n",
       "True       13007\n",
       "Name: FULLVAL, dtype: int64"
      ]
     },
     "execution_count": 3,
     "metadata": {},
     "output_type": "execute_result"
    }
   ],
   "source": [
    "mydata['FULLVAL']=mydata['FULLVAL'].replace(0, np.nan)\n",
    "mydata['FULLVAL'].isna().value_counts()"
   ]
  },
  {
   "cell_type": "markdown",
   "metadata": {},
   "source": [
    "Turn STORIES to INT"
   ]
  },
  {
   "cell_type": "code",
   "execution_count": 4,
   "metadata": {},
   "outputs": [],
   "source": [
    "data = mydata\n",
    "data['TAXCLASS']=mydata['TAXCLASS'].astype('str')\n",
    "data['ZIP']=mydata['ZIP'].astype('str')\n",
    "data['STORIES']=mydata['STORIES'].astype(np.float64)\n",
    "\n",
    "data['STORIES']=round(data['STORIES'])\n",
    "data['STORIES']=mydata['STORIES'].astype('str')"
   ]
  },
  {
   "cell_type": "markdown",
   "metadata": {},
   "source": [
    "Consider the maximum of (LTFRONT, LTDEPTH, BLDFRONT and BLDDEPTH) as classifier"
   ]
  },
  {
   "cell_type": "code",
   "execution_count": 5,
   "metadata": {},
   "outputs": [],
   "source": [
    "data['new'] = data[['LTFRONT','LTDEPTH','BLDFRONT','BLDDEPTH']].max(axis=1)\n",
    "bins = [i*50 for i in range(201)]\n",
    "groups = [i for i in range(200)]\n",
    "data['area_level'] = pd.cut(data['new'], bins, labels=groups)\n",
    "data['area_level']=data['area_level'].replace(np.nan,0)\n",
    "data['area_level']=mydata['area_level'].astype('str')"
   ]
  },
  {
   "cell_type": "markdown",
   "metadata": {},
   "source": [
    "use TAXCLASS STORIES area_level ZIP"
   ]
  },
  {
   "cell_type": "code",
   "execution_count": 6,
   "metadata": {},
   "outputs": [
    {
     "data": {
      "text/plain": [
       "False    1063973\n",
       "True        7021\n",
       "Name: FULLVAL, dtype: int64"
      ]
     },
     "execution_count": 6,
     "metadata": {},
     "output_type": "execute_result"
    }
   ],
   "source": [
    "\n",
    "data['group'] = data['TAXCLASS']+'.'+data['ZIP']+'.'+data['STORIES']+'.'+data['area_level']\n",
    "table = data.groupby(['group'])['FULLVAL'].mean()\n",
    "\n",
    "table = round(table)\n",
    "def get_matched_value(string):\n",
    "    val = table.loc[string]\n",
    "    return val\n",
    "\n",
    "\n",
    "data['meanFULLVAL'] = data['group'].apply(get_matched_value)\n",
    "\n",
    "\n",
    "dt1= data.groupby(['group']).agg({'meanFULLVAL':'mean','RECORD':'count'})\n",
    "dt10=dt1.query('RECORD>=10').reset_index()\n",
    "\n",
    "data10=data.merge(dt10, on =['group'], how = 'left')\n",
    "data10[['group','meanFULLVAL_y']].groupby('group')['meanFULLVAL_y'].mean()\n",
    "del data10['meanFULLVAL_x']\n",
    "\n",
    "mydata['FULLVAL'].fillna(data10['meanFULLVAL_y'],inplace=True ) \n",
    "\n",
    "mydata['FULLVAL'].isna().value_counts()\n"
   ]
  },
  {
   "cell_type": "markdown",
   "metadata": {},
   "source": [
    "Under 10 use TAXCLASS STORIES area_level"
   ]
  },
  {
   "cell_type": "code",
   "execution_count": 7,
   "metadata": {},
   "outputs": [
    {
     "data": {
      "text/plain": [
       "False    1068303\n",
       "True        2691\n",
       "Name: FULLVAL, dtype: int64"
      ]
     },
     "execution_count": 7,
     "metadata": {},
     "output_type": "execute_result"
    }
   ],
   "source": [
    "\n",
    "data['group'] = data['TAXCLASS']+'.'+data['STORIES']+'.'+data['area_level']\n",
    "table = data.groupby(['group'])['FULLVAL'].mean()\n",
    "\n",
    "table = round(table)\n",
    "def get_matched_value(string):\n",
    "    val = table.loc[string]\n",
    "    return val\n",
    "\n",
    "\n",
    "data['meanFULLVAL'] = data['group'].apply(get_matched_value)\n",
    "\n",
    "dt1= data.groupby(['group']).agg({'meanFULLVAL':'mean','RECORD':'count'})\n",
    "dt10=dt1.query('RECORD>=10').reset_index()\n",
    "\n",
    "data10=data.merge(dt10, on =['group'], how = 'left')\n",
    "data10[['group','meanFULLVAL_y']].groupby('group')['meanFULLVAL_y'].mean()\n",
    "del data10['meanFULLVAL_x']\n",
    "\n",
    "mydata['FULLVAL'].fillna(data10['meanFULLVAL_y'],inplace=True ) \n",
    "\n",
    "mydata['FULLVAL'].isna().value_counts()\n"
   ]
  },
  {
   "cell_type": "markdown",
   "metadata": {},
   "source": [
    "Under 10 use STORIES,area_level"
   ]
  },
  {
   "cell_type": "code",
   "execution_count": 8,
   "metadata": {},
   "outputs": [
    {
     "data": {
      "text/plain": [
       "False    1070902\n",
       "True          92\n",
       "Name: FULLVAL, dtype: int64"
      ]
     },
     "execution_count": 8,
     "metadata": {},
     "output_type": "execute_result"
    }
   ],
   "source": [
    "data['group'] = data['STORIES']+'.'+data['area_level']\n",
    "table = data.groupby(['group'])['FULLVAL'].mean()\n",
    "\n",
    "table = round(table)\n",
    "def get_matched_value(string):\n",
    "    val = table.loc[string]\n",
    "    return val\n",
    "\n",
    "\n",
    "data['meanFULLVAL'] = data['group'].apply(get_matched_value)\n",
    "\n",
    "dt1= data.groupby(['group']).agg({'meanFULLVAL':'mean','RECORD':'count'})\n",
    "dt10=dt1.query('RECORD>=0').reset_index()\n",
    "\n",
    "data10=data.merge(dt10, on =['group'], how = 'left')\n",
    "data10[['group','meanFULLVAL_y']].groupby('group')['meanFULLVAL_y'].mean()\n",
    "del data10['meanFULLVAL_x']\n",
    "\n",
    "mydata['FULLVAL'].fillna(data10['meanFULLVAL_y'],inplace=True ) \n",
    "\n",
    "mydata['FULLVAL'].isna().value_counts()"
   ]
  },
  {
   "cell_type": "markdown",
   "metadata": {},
   "source": [
    "STILL HAVE NULL —— use stories"
   ]
  },
  {
   "cell_type": "code",
   "execution_count": 9,
   "metadata": {},
   "outputs": [
    {
     "data": {
      "text/plain": [
       "False    1070992\n",
       "True           2\n",
       "Name: FULLVAL, dtype: int64"
      ]
     },
     "execution_count": 9,
     "metadata": {},
     "output_type": "execute_result"
    }
   ],
   "source": [
    "data['group'] = data['STORIES']\n",
    "table = data.groupby(['group'])['FULLVAL'].mean()\n",
    "\n",
    "table = round(table)\n",
    "def get_matched_value(string):\n",
    "    val = table.loc[string]\n",
    "    return val\n",
    "\n",
    "\n",
    "data['meanFULLVAL'] = data['group'].apply(get_matched_value)\n",
    "\n",
    "dt1= data.groupby(['group']).agg({'meanFULLVAL':'mean','RECORD':'count'})\n",
    "dt10=dt1.query('RECORD>=0').reset_index()\n",
    "\n",
    "data10=data.merge(dt10, on =['group'], how = 'left')\n",
    "data10[['group','meanFULLVAL_y']].groupby('group')['meanFULLVAL_y'].mean()\n",
    "del data10['meanFULLVAL_x']\n",
    "\n",
    "mydata['FULLVAL'].fillna(data10['meanFULLVAL_y'],inplace=True ) \n",
    "\n",
    "mydata['FULLVAL'].isna().value_counts()"
   ]
  },
  {
   "cell_type": "markdown",
   "metadata": {},
   "source": [
    "STILL HAVE NULL —— use TAXCLASS"
   ]
  },
  {
   "cell_type": "code",
   "execution_count": 10,
   "metadata": {},
   "outputs": [
    {
     "data": {
      "text/plain": [
       "False    1070994\n",
       "Name: FULLVAL, dtype: int64"
      ]
     },
     "execution_count": 10,
     "metadata": {},
     "output_type": "execute_result"
    }
   ],
   "source": [
    "data['group'] = data['TAXCLASS']\n",
    "table = data.groupby(['group'])['FULLVAL'].mean()\n",
    "\n",
    "table = round(table)\n",
    "def get_matched_value(string):\n",
    "    val = table.loc[string]\n",
    "    return val\n",
    "\n",
    "\n",
    "data['meanFULLVAL'] = data['group'].apply(get_matched_value)\n",
    "\n",
    "dt1= data.groupby(['group']).agg({'meanFULLVAL':'mean','RECORD':'count'})\n",
    "dt10=dt1.query('RECORD>=0').reset_index()\n",
    "\n",
    "data10=data.merge(dt10, on =['group'], how = 'left')\n",
    "data10[['group','meanFULLVAL_y']].groupby('group')['meanFULLVAL_y'].mean()\n",
    "del data10['meanFULLVAL_x']\n",
    "\n",
    "mydata['FULLVAL'].fillna(data10['meanFULLVAL_y'],inplace=True ) \n",
    "\n",
    "mydata['FULLVAL'].isna().value_counts()"
   ]
  },
  {
   "cell_type": "markdown",
   "metadata": {},
   "source": [
    "二、AVLAND"
   ]
  },
  {
   "cell_type": "code",
   "execution_count": 11,
   "metadata": {},
   "outputs": [],
   "source": [
    "mydata['AVLAND']=mydata['AVLAND'].replace(0, np.nan)\n"
   ]
  },
  {
   "cell_type": "code",
   "execution_count": 12,
   "metadata": {},
   "outputs": [
    {
     "data": {
      "text/plain": [
       "False    1057985\n",
       "True       13009\n",
       "Name: AVLAND, dtype: int64"
      ]
     },
     "execution_count": 12,
     "metadata": {},
     "output_type": "execute_result"
    }
   ],
   "source": [
    "mydata['AVLAND'].isna().value_counts()"
   ]
  },
  {
   "cell_type": "code",
   "execution_count": 13,
   "metadata": {},
   "outputs": [
    {
     "data": {
      "text/plain": [
       "False    1063973\n",
       "True        7021\n",
       "Name: AVLAND, dtype: int64"
      ]
     },
     "execution_count": 13,
     "metadata": {},
     "output_type": "execute_result"
    }
   ],
   "source": [
    "\n",
    "data['group'] = data['TAXCLASS']+'.'+data['ZIP']+'.'+data['STORIES']+'.'+data['area_level']\n",
    "table = data.groupby(['group'])['AVLAND'].mean()\n",
    "\n",
    "table = round(table)\n",
    "def get_matched_value(string):\n",
    "    val = table.loc[string]\n",
    "    return val\n",
    "\n",
    "\n",
    "data['meanAVLAND'] = data['group'].apply(get_matched_value)\n",
    "\n",
    "\n",
    "dt1= data.groupby(['group']).agg({'meanAVLAND':'mean','RECORD':'count'})\n",
    "dt10=dt1.query('RECORD>=10').reset_index()\n",
    "\n",
    "data10=data.merge(dt10, on =['group'], how = 'left')\n",
    "data10[['group','meanAVLAND_y']].groupby('group')['meanAVLAND_y'].mean()\n",
    "del data10['meanAVLAND_x']\n",
    "\n",
    "mydata['AVLAND'].fillna(data10['meanAVLAND_y'],inplace=True ) \n",
    "\n",
    "mydata['AVLAND'].isna().value_counts()\n"
   ]
  },
  {
   "cell_type": "code",
   "execution_count": 14,
   "metadata": {},
   "outputs": [
    {
     "data": {
      "text/plain": [
       "False    1068303\n",
       "True        2691\n",
       "Name: AVLAND, dtype: int64"
      ]
     },
     "execution_count": 14,
     "metadata": {},
     "output_type": "execute_result"
    }
   ],
   "source": [
    "data['group'] = data['TAXCLASS']+'.'+data['STORIES']+'.'+data['area_level']\n",
    "table = data.groupby(['group'])['AVLAND'].mean()\n",
    "\n",
    "table = round(table)\n",
    "def get_matched_value(string):\n",
    "    val = table.loc[string]\n",
    "    return val\n",
    "\n",
    "\n",
    "data['meanAVLAND'] = data['group'].apply(get_matched_value)\n",
    "\n",
    "\n",
    "dt1= data.groupby(['group']).agg({'meanAVLAND':'mean','RECORD':'count'})\n",
    "dt10=dt1.query('RECORD>=10').reset_index()\n",
    "\n",
    "data10=data.merge(dt10, on =['group'], how = 'left')\n",
    "data10[['group','meanAVLAND_y']].groupby('group')['meanAVLAND_y'].mean()\n",
    "del data10['meanAVLAND_x']\n",
    "\n",
    "mydata['AVLAND'].fillna(data10['meanAVLAND_y'],inplace=True ) \n",
    "\n",
    "mydata['AVLAND'].isna().value_counts()"
   ]
  },
  {
   "cell_type": "code",
   "execution_count": 15,
   "metadata": {},
   "outputs": [
    {
     "data": {
      "text/plain": [
       "False    1070702\n",
       "True         292\n",
       "Name: AVLAND, dtype: int64"
      ]
     },
     "execution_count": 15,
     "metadata": {},
     "output_type": "execute_result"
    }
   ],
   "source": [
    "data['group'] = data['STORIES']+'.'+data['area_level']\n",
    "table = data.groupby(['group'])['AVLAND'].mean()\n",
    "\n",
    "table = round(table)\n",
    "def get_matched_value(string):\n",
    "    val = table.loc[string]\n",
    "    return val\n",
    "\n",
    "\n",
    "data['meanAVLAND'] = data['group'].apply(get_matched_value)\n",
    "\n",
    "\n",
    "dt1= data.groupby(['group']).agg({'meanAVLAND':'mean','RECORD':'count'})\n",
    "dt10=dt1.query('RECORD>=10').reset_index()\n",
    "\n",
    "data10=data.merge(dt10, on =['group'], how = 'left')\n",
    "data10[['group','meanAVLAND_y']].groupby('group')['meanAVLAND_y'].mean()\n",
    "del data10['meanAVLAND_x']\n",
    "\n",
    "mydata['AVLAND'].fillna(data10['meanAVLAND_y'],inplace=True ) \n",
    "\n",
    "mydata['AVLAND'].isna().value_counts()"
   ]
  },
  {
   "cell_type": "code",
   "execution_count": 16,
   "metadata": {},
   "outputs": [
    {
     "data": {
      "text/plain": [
       "False    1070992\n",
       "True           2\n",
       "Name: AVLAND, dtype: int64"
      ]
     },
     "execution_count": 16,
     "metadata": {},
     "output_type": "execute_result"
    }
   ],
   "source": [
    "data['group'] = data['STORIES']\n",
    "table = data.groupby(['group'])['AVLAND'].mean()\n",
    "\n",
    "table = round(table)\n",
    "def get_matched_value(string):\n",
    "    val = table.loc[string]\n",
    "    return val\n",
    "\n",
    "\n",
    "data['meanAVLAND'] = data['group'].apply(get_matched_value)\n",
    "\n",
    "\n",
    "dt1= data.groupby(['group']).agg({'meanAVLAND':'mean','RECORD':'count'})\n",
    "dt10=dt1.query('RECORD>=0').reset_index()\n",
    "\n",
    "data10=data.merge(dt10, on =['group'], how = 'left')\n",
    "data10[['group','meanAVLAND_y']].groupby('group')['meanAVLAND_y'].mean()\n",
    "del data10['meanAVLAND_x']\n",
    "\n",
    "mydata['AVLAND'].fillna(data10['meanAVLAND_y'],inplace=True ) \n",
    "\n",
    "mydata['AVLAND'].isna().value_counts()"
   ]
  },
  {
   "cell_type": "code",
   "execution_count": 17,
   "metadata": {},
   "outputs": [
    {
     "data": {
      "text/plain": [
       "False    1070994\n",
       "Name: AVLAND, dtype: int64"
      ]
     },
     "execution_count": 17,
     "metadata": {},
     "output_type": "execute_result"
    }
   ],
   "source": [
    "data['group'] = data['TAXCLASS']\n",
    "table = data.groupby(['group'])['AVLAND'].mean()\n",
    "\n",
    "table = round(table)\n",
    "def get_matched_value(string):\n",
    "    val = table.loc[string]\n",
    "    return val\n",
    "\n",
    "\n",
    "data['meanAVLAND'] = data['group'].apply(get_matched_value)\n",
    "\n",
    "\n",
    "dt1= data.groupby(['group']).agg({'meanAVLAND':'mean','RECORD':'count'})\n",
    "dt10=dt1.query('RECORD>=0').reset_index()\n",
    "\n",
    "data10=data.merge(dt10, on =['group'], how = 'left')\n",
    "data10[['group','meanAVLAND_y']].groupby('group')['meanAVLAND_y'].mean()\n",
    "del data10['meanAVLAND_x']\n",
    "\n",
    "mydata['AVLAND'].fillna(data10['meanAVLAND_y'],inplace=True ) \n",
    "\n",
    "mydata['AVLAND'].isna().value_counts()"
   ]
  },
  {
   "cell_type": "markdown",
   "metadata": {},
   "source": [
    "三、AVTOT"
   ]
  },
  {
   "cell_type": "code",
   "execution_count": 18,
   "metadata": {},
   "outputs": [],
   "source": [
    "mydata['AVTOT']=mydata['AVTOT'].replace(0, np.nan)"
   ]
  },
  {
   "cell_type": "code",
   "execution_count": 19,
   "metadata": {},
   "outputs": [
    {
     "data": {
      "text/plain": [
       "False    1063973\n",
       "True        7021\n",
       "Name: AVTOT, dtype: int64"
      ]
     },
     "execution_count": 19,
     "metadata": {},
     "output_type": "execute_result"
    }
   ],
   "source": [
    "data['group'] = data['TAXCLASS']+'.'+data['ZIP']+'.'+data['STORIES']+'.'+data['area_level']\n",
    "table = data.groupby(['group'])['AVTOT'].mean()\n",
    "\n",
    "table = round(table)\n",
    "def get_matched_value(string):\n",
    "    val = table.loc[string]\n",
    "    return val\n",
    "\n",
    "\n",
    "data['meanAVTOT'] = data['group'].apply(get_matched_value)\n",
    "\n",
    "\n",
    "dt1= data.groupby(['group']).agg({'meanAVTOT':'mean','RECORD':'count'})\n",
    "dt10=dt1.query('RECORD>=10').reset_index()\n",
    "\n",
    "data10=data.merge(dt10, on =['group'], how = 'left')\n",
    "data10[['group','meanAVTOT_y']].groupby('group')['meanAVTOT_y'].mean()\n",
    "del data10['meanAVTOT_x']\n",
    "\n",
    "mydata['AVTOT'].fillna(data10['meanAVTOT_y'],inplace=True ) \n",
    "\n",
    "mydata['AVTOT'].isna().value_counts()\n"
   ]
  },
  {
   "cell_type": "code",
   "execution_count": 20,
   "metadata": {},
   "outputs": [
    {
     "data": {
      "text/plain": [
       "False    1068303\n",
       "True        2691\n",
       "Name: AVTOT, dtype: int64"
      ]
     },
     "execution_count": 20,
     "metadata": {},
     "output_type": "execute_result"
    }
   ],
   "source": [
    "data['group'] = data['TAXCLASS']+'.'+data['STORIES']+'.'+data['area_level']\n",
    "table = data.groupby(['group'])['AVTOT'].mean()\n",
    "\n",
    "table = round(table)\n",
    "def get_matched_value(string):\n",
    "    val = table.loc[string]\n",
    "    return val\n",
    "\n",
    "\n",
    "data['meanAVTOT'] = data['group'].apply(get_matched_value)\n",
    "\n",
    "\n",
    "dt1= data.groupby(['group']).agg({'meanAVTOT':'mean','RECORD':'count'})\n",
    "dt10=dt1.query('RECORD>=10').reset_index()\n",
    "\n",
    "data10=data.merge(dt10, on =['group'], how = 'left')\n",
    "data10[['group','meanAVTOT_y']].groupby('group')['meanAVTOT_y'].mean()\n",
    "del data10['meanAVTOT_x']\n",
    "\n",
    "mydata['AVTOT'].fillna(data10['meanAVTOT_y'],inplace=True ) \n",
    "\n",
    "mydata['AVTOT'].isna().value_counts()\n"
   ]
  },
  {
   "cell_type": "code",
   "execution_count": 21,
   "metadata": {},
   "outputs": [
    {
     "data": {
      "text/plain": [
       "False    1070702\n",
       "True         292\n",
       "Name: AVTOT, dtype: int64"
      ]
     },
     "execution_count": 21,
     "metadata": {},
     "output_type": "execute_result"
    }
   ],
   "source": [
    "data['group'] = data['STORIES']+'.'+data['area_level']\n",
    "table = data.groupby(['group'])['AVTOT'].mean()\n",
    "\n",
    "table = round(table)\n",
    "def get_matched_value(string):\n",
    "    val = table.loc[string]\n",
    "    return val\n",
    "\n",
    "\n",
    "data['meanAVTOT'] = data['group'].apply(get_matched_value)\n",
    "\n",
    "\n",
    "dt1= data.groupby(['group']).agg({'meanAVTOT':'mean','RECORD':'count'})\n",
    "dt10=dt1.query('RECORD>=10').reset_index()\n",
    "\n",
    "data10=data.merge(dt10, on =['group'], how = 'left')\n",
    "data10[['group','meanAVTOT_y']].groupby('group')['meanAVTOT_y'].mean()\n",
    "del data10['meanAVTOT_x']\n",
    "\n",
    "mydata['AVTOT'].fillna(data10['meanAVTOT_y'],inplace=True ) \n",
    "\n",
    "mydata['AVTOT'].isna().value_counts()\n"
   ]
  },
  {
   "cell_type": "code",
   "execution_count": 22,
   "metadata": {},
   "outputs": [
    {
     "data": {
      "text/plain": [
       "False    1070992\n",
       "True           2\n",
       "Name: AVTOT, dtype: int64"
      ]
     },
     "execution_count": 22,
     "metadata": {},
     "output_type": "execute_result"
    }
   ],
   "source": [
    "data['group'] = data['STORIES']\n",
    "table = data.groupby(['group'])['AVTOT'].mean()\n",
    "\n",
    "table = round(table)\n",
    "def get_matched_value(string):\n",
    "    val = table.loc[string]\n",
    "    return val\n",
    "\n",
    "\n",
    "data['meanAVTOT'] = data['group'].apply(get_matched_value)\n",
    "\n",
    "\n",
    "dt1= data.groupby(['group']).agg({'meanAVTOT':'mean','RECORD':'count'})\n",
    "dt10=dt1.query('RECORD>=0').reset_index()\n",
    "\n",
    "data10=data.merge(dt10, on =['group'], how = 'left')\n",
    "data10[['group','meanAVTOT_y']].groupby('group')['meanAVTOT_y'].mean()\n",
    "del data10['meanAVTOT_x']\n",
    "\n",
    "mydata['AVTOT'].fillna(data10['meanAVTOT_y'],inplace=True ) \n",
    "\n",
    "mydata['AVTOT'].isna().value_counts()"
   ]
  },
  {
   "cell_type": "code",
   "execution_count": 23,
   "metadata": {},
   "outputs": [
    {
     "data": {
      "text/plain": [
       "False    1070994\n",
       "Name: AVTOT, dtype: int64"
      ]
     },
     "execution_count": 23,
     "metadata": {},
     "output_type": "execute_result"
    }
   ],
   "source": [
    "data['group'] = data['TAXCLASS']\n",
    "table = data.groupby(['group'])['AVTOT'].mean()\n",
    "\n",
    "table = round(table)\n",
    "def get_matched_value(string):\n",
    "    val = table.loc[string]\n",
    "    return val\n",
    "\n",
    "\n",
    "data['meanAVTOT'] = data['group'].apply(get_matched_value)\n",
    "\n",
    "\n",
    "dt1= data.groupby(['group']).agg({'meanAVTOT':'mean','RECORD':'count'})\n",
    "dt10=dt1.query('RECORD>=0').reset_index()\n",
    "\n",
    "data10=data.merge(dt10, on =['group'], how = 'left')\n",
    "data10[['group','meanAVTOT_y']].groupby('group')['meanAVTOT_y'].mean()\n",
    "del data10['meanAVTOT_x']\n",
    "\n",
    "mydata['AVTOT'].fillna(data10['meanAVTOT_y'],inplace=True ) \n",
    "\n",
    "mydata['AVTOT'].isna().value_counts()"
   ]
  },
  {
   "cell_type": "markdown",
   "metadata": {},
   "source": [
    "Fill LTFRONT, LTDEPTH, BLDFRONT, BLDDEPTH"
   ]
  },
  {
   "cell_type": "markdown",
   "metadata": {},
   "source": [
    "LTFRONT"
   ]
  },
  {
   "cell_type": "markdown",
   "metadata": {},
   "source": [
    "USE value level=mean(FULLVAL, AVLAND, AVTOT) as classifier"
   ]
  },
  {
   "cell_type": "code",
   "execution_count": 24,
   "metadata": {},
   "outputs": [],
   "source": [
    "data['meanvalue'] = data[['FULLVAL','AVLAND','AVTOT']].mean(axis=1)\n"
   ]
  },
  {
   "cell_type": "code",
   "execution_count": 25,
   "metadata": {},
   "outputs": [],
   "source": [
    "data['meanvalvalue'] = data[['FULLVAL','AVLAND','AVTOT']].mean(axis=1)\n",
    "bins = [i*1000 for i in range(200)]\n",
    "bins.extend([a*10000+200000 for a in range(80)])\n",
    "bins.extend([i*100000+1000000 for i in range(90)])\n",
    "bins.extend([i*1000000+10000000 for i in range(90)])\n",
    "bins.extend([i*1000000+100000000 for i in range(90)])\n",
    "bins.extend([i*10000000+1000000000 for i in range(90)])\n",
    "bins.extend([i*100000000+10000000000 for i in range(90)])\n"
   ]
  },
  {
   "cell_type": "code",
   "execution_count": 26,
   "metadata": {},
   "outputs": [],
   "source": [
    "groups = [i for i in range(len(bins)-1)]\n",
    "data['val_level'] = pd.cut(data['meanvalvalue'], bins, labels=groups)\n",
    "data['val_level']=data['val_level'].replace(np.nan,0)\n",
    "data['val_level']=mydata['val_level'].astype('str')"
   ]
  },
  {
   "cell_type": "code",
   "execution_count": 31,
   "metadata": {},
   "outputs": [
    {
     "data": {
      "text/plain": [
       "False    901886\n",
       "True     169108\n",
       "Name: LTFRONT, dtype: int64"
      ]
     },
     "execution_count": 31,
     "metadata": {},
     "output_type": "execute_result"
    }
   ],
   "source": [
    "mydata['LTFRONT']=mydata['LTFRONT'].replace(0, np.nan)\n",
    "mydata['LTFRONT'].isna().value_counts()"
   ]
  },
  {
   "cell_type": "code",
   "execution_count": 32,
   "metadata": {},
   "outputs": [
    {
     "data": {
      "text/plain": [
       "False    916876\n",
       "True     154118\n",
       "Name: LTFRONT, dtype: int64"
      ]
     },
     "execution_count": 32,
     "metadata": {},
     "output_type": "execute_result"
    }
   ],
   "source": [
    "\n",
    "data['group'] = data['TAXCLASS']+'.'+data['ZIP']+'.'+data['STORIES']+'.'+data['val_level']\n",
    "table = data.groupby(['group'])['LTFRONT'].mean()\n",
    "\n",
    "table = round(table)\n",
    "def get_matched_value(string):\n",
    "    val = table.loc[string]\n",
    "    return val\n",
    "\n",
    "\n",
    "data['meanLTFRONT'] = data['group'].apply(get_matched_value)\n",
    "\n",
    "\n",
    "dt1= data.groupby(['group']).agg({'meanLTFRONT':'mean','RECORD':'count'})\n",
    "dt10=dt1.query('RECORD>=10').reset_index()\n",
    "\n",
    "data10=data.merge(dt10, on =['group'], how = 'left')\n",
    "data10[['group','meanLTFRONT_y']].groupby('group')['meanLTFRONT_y'].mean()\n",
    "del data10['meanLTFRONT_x']\n",
    "\n",
    "mydata['LTFRONT'].fillna(data10['meanLTFRONT_y'],inplace=True ) \n",
    "\n",
    "mydata['LTFRONT'].isna().value_counts()"
   ]
  },
  {
   "cell_type": "code",
   "execution_count": 33,
   "metadata": {},
   "outputs": [
    {
     "data": {
      "text/plain": [
       "False    1010629\n",
       "True       60365\n",
       "Name: LTFRONT, dtype: int64"
      ]
     },
     "execution_count": 33,
     "metadata": {},
     "output_type": "execute_result"
    }
   ],
   "source": [
    "data['group'] = data['TAXCLASS']+'.'+data['STORIES']+'.'+data['val_level']\n",
    "table = data.groupby(['group'])['LTFRONT'].mean()\n",
    "\n",
    "table = round(table)\n",
    "def get_matched_value(string):\n",
    "    val = table.loc[string]\n",
    "    return val\n",
    "\n",
    "\n",
    "data['meanLTFRONT'] = data['group'].apply(get_matched_value)\n",
    "\n",
    "\n",
    "dt1= data.groupby(['group']).agg({'meanLTFRONT':'mean','RECORD':'count'})\n",
    "dt10=dt1.query('RECORD>=10').reset_index()\n",
    "\n",
    "data10=data.merge(dt10, on =['group'], how = 'left')\n",
    "data10[['group','meanLTFRONT_y']].groupby('group')['meanLTFRONT_y'].mean()\n",
    "del data10['meanLTFRONT_x']\n",
    "\n",
    "mydata['LTFRONT'].fillna(data10['meanLTFRONT_y'],inplace=True ) \n",
    "\n",
    "mydata['LTFRONT'].isna().value_counts()"
   ]
  },
  {
   "cell_type": "code",
   "execution_count": 34,
   "metadata": {},
   "outputs": [
    {
     "data": {
      "text/plain": [
       "False    1069274\n",
       "True        1720\n",
       "Name: LTFRONT, dtype: int64"
      ]
     },
     "execution_count": 34,
     "metadata": {},
     "output_type": "execute_result"
    }
   ],
   "source": [
    "data['group'] = data['TAXCLASS']+data['val_level']\n",
    "table = data.groupby(['group'])['LTFRONT'].mean()\n",
    "\n",
    "table = round(table)\n",
    "def get_matched_value(string):\n",
    "    val = table.loc[string]\n",
    "    return val\n",
    "\n",
    "\n",
    "data['meanLTFRONT'] = data['group'].apply(get_matched_value)\n",
    "\n",
    "\n",
    "dt1= data.groupby(['group']).agg({'meanLTFRONT':'mean','RECORD':'count'})\n",
    "dt10=dt1.query('RECORD>=10').reset_index()\n",
    "\n",
    "data10=data.merge(dt10, on =['group'], how = 'left')\n",
    "data10[['group','meanLTFRONT_y']].groupby('group')['meanLTFRONT_y'].mean()\n",
    "del data10['meanLTFRONT_x']\n",
    "\n",
    "mydata['LTFRONT'].fillna(data10['meanLTFRONT_y'],inplace=True ) \n",
    "\n",
    "mydata['LTFRONT'].isna().value_counts()"
   ]
  },
  {
   "cell_type": "code",
   "execution_count": 35,
   "metadata": {},
   "outputs": [
    {
     "data": {
      "text/plain": [
       "False    1070954\n",
       "True          40\n",
       "Name: LTFRONT, dtype: int64"
      ]
     },
     "execution_count": 35,
     "metadata": {},
     "output_type": "execute_result"
    }
   ],
   "source": [
    "data['group'] = data['STORIES']+data['val_level']\n",
    "table = data.groupby(['group'])['LTFRONT'].mean()\n",
    "\n",
    "table = round(table)\n",
    "def get_matched_value(string):\n",
    "    val = table.loc[string]\n",
    "    return val\n",
    "\n",
    "\n",
    "data['meanLTFRONT'] = data['group'].apply(get_matched_value)\n",
    "\n",
    "\n",
    "dt1= data.groupby(['group']).agg({'meanLTFRONT':'mean','RECORD':'count'})\n",
    "dt10=dt1.query('RECORD>=10').reset_index()\n",
    "\n",
    "data10=data.merge(dt10, on =['group'], how = 'left')\n",
    "data10[['group','meanLTFRONT_y']].groupby('group')['meanLTFRONT_y'].mean()\n",
    "del data10['meanLTFRONT_x']\n",
    "\n",
    "mydata['LTFRONT'].fillna(data10['meanLTFRONT_y'],inplace=True ) \n",
    "\n",
    "mydata['LTFRONT'].isna().value_counts()"
   ]
  },
  {
   "cell_type": "code",
   "execution_count": 37,
   "metadata": {},
   "outputs": [
    {
     "data": {
      "text/plain": [
       "False    1070993\n",
       "True           1\n",
       "Name: LTFRONT, dtype: int64"
      ]
     },
     "execution_count": 37,
     "metadata": {},
     "output_type": "execute_result"
    }
   ],
   "source": [
    "data['group'] = data['val_level']\n",
    "table = data.groupby(['group'])['LTFRONT'].mean()\n",
    "\n",
    "table = round(table)\n",
    "def get_matched_value(string):\n",
    "    val = table.loc[string]\n",
    "    return val\n",
    "\n",
    "\n",
    "data['meanLTFRONT'] = data['group'].apply(get_matched_value)\n",
    "\n",
    "\n",
    "dt1= data.groupby(['group']).agg({'meanLTFRONT':'mean','RECORD':'count'})\n",
    "dt10=dt1.query('RECORD>=0').reset_index()\n",
    "\n",
    "data10=data.merge(dt10, on =['group'], how = 'left')\n",
    "data10[['group','meanLTFRONT_y']].groupby('group')['meanLTFRONT_y'].mean()\n",
    "del data10['meanLTFRONT_x']\n",
    "\n",
    "mydata['LTFRONT'].fillna(data10['meanLTFRONT_y'],inplace=True ) \n",
    "\n",
    "mydata['LTFRONT'].isna().value_counts()"
   ]
  },
  {
   "cell_type": "code",
   "execution_count": 39,
   "metadata": {},
   "outputs": [
    {
     "data": {
      "text/plain": [
       "False    1070994\n",
       "Name: LTFRONT, dtype: int64"
      ]
     },
     "execution_count": 39,
     "metadata": {},
     "output_type": "execute_result"
    }
   ],
   "source": [
    "data['group'] = data['TAXCLASS']\n",
    "table = data.groupby(['group'])['LTFRONT'].mean()\n",
    "\n",
    "table = round(table)\n",
    "def get_matched_value(string):\n",
    "    val = table.loc[string]\n",
    "    return val\n",
    "\n",
    "\n",
    "data['meanLTFRONT'] = data['group'].apply(get_matched_value)\n",
    "\n",
    "\n",
    "dt1= data.groupby(['group']).agg({'meanLTFRONT':'mean','RECORD':'count'})\n",
    "dt10=dt1.query('RECORD>=0').reset_index()\n",
    "\n",
    "data10=data.merge(dt10, on =['group'], how = 'left')\n",
    "data10[['group','meanLTFRONT_y']].groupby('group')['meanLTFRONT_y'].mean()\n",
    "del data10['meanLTFRONT_x']\n",
    "\n",
    "mydata['LTFRONT'].fillna(data10['meanLTFRONT_y'],inplace=True ) \n",
    "\n",
    "mydata['LTFRONT'].isna().value_counts()"
   ]
  },
  {
   "cell_type": "markdown",
   "metadata": {},
   "source": [
    "LTDEPTH"
   ]
  },
  {
   "cell_type": "code",
   "execution_count": 40,
   "metadata": {},
   "outputs": [
    {
     "data": {
      "text/plain": [
       "False    900866\n",
       "True     170128\n",
       "Name: LTDEPTH, dtype: int64"
      ]
     },
     "execution_count": 40,
     "metadata": {},
     "output_type": "execute_result"
    }
   ],
   "source": [
    "mydata['LTDEPTH']=mydata['LTDEPTH'].replace(0, np.nan)\n",
    "mydata['LTDEPTH'].isna().value_counts()"
   ]
  },
  {
   "cell_type": "code",
   "execution_count": 41,
   "metadata": {},
   "outputs": [
    {
     "data": {
      "text/plain": [
       "False    916080\n",
       "True     154914\n",
       "Name: LTDEPTH, dtype: int64"
      ]
     },
     "execution_count": 41,
     "metadata": {},
     "output_type": "execute_result"
    }
   ],
   "source": [
    "\n",
    "data['group'] = data['TAXCLASS']+'.'+data['ZIP']+'.'+data['STORIES']+'.'+data['val_level']\n",
    "table = data.groupby(['group'])['LTDEPTH'].mean()\n",
    "\n",
    "table = round(table)\n",
    "def get_matched_value(string):\n",
    "    val = table.loc[string]\n",
    "    return val\n",
    "\n",
    "\n",
    "data['meanLTDEPTH'] = data['group'].apply(get_matched_value)\n",
    "\n",
    "\n",
    "dt1= data.groupby(['group']).agg({'meanLTDEPTH':'mean','RECORD':'count'})\n",
    "dt10=dt1.query('RECORD>=10').reset_index()\n",
    "\n",
    "data10=data.merge(dt10, on =['group'], how = 'left')\n",
    "data10[['group','meanLTDEPTH_y']].groupby('group')['meanLTDEPTH_y'].mean()\n",
    "del data10['meanLTDEPTH_x']\n",
    "\n",
    "mydata['LTDEPTH'].fillna(data10['meanLTDEPTH_y'],inplace=True ) \n",
    "\n",
    "mydata['LTDEPTH'].isna().value_counts()"
   ]
  },
  {
   "cell_type": "code",
   "execution_count": 42,
   "metadata": {},
   "outputs": [
    {
     "data": {
      "text/plain": [
       "False    1009508\n",
       "True       61486\n",
       "Name: LTDEPTH, dtype: int64"
      ]
     },
     "execution_count": 42,
     "metadata": {},
     "output_type": "execute_result"
    }
   ],
   "source": [
    "data['group'] = data['TAXCLASS']+'.'+data['STORIES']+'.'+data['val_level']\n",
    "table = data.groupby(['group'])['LTDEPTH'].mean()\n",
    "\n",
    "table = round(table)\n",
    "def get_matched_value(string):\n",
    "    val = table.loc[string]\n",
    "    return val\n",
    "\n",
    "\n",
    "data['meanLTDEPTH'] = data['group'].apply(get_matched_value)\n",
    "\n",
    "\n",
    "dt1= data.groupby(['group']).agg({'meanLTDEPTH':'mean','RECORD':'count'})\n",
    "dt10=dt1.query('RECORD>=10').reset_index()\n",
    "\n",
    "data10=data.merge(dt10, on =['group'], how = 'left')\n",
    "data10[['group','meanLTDEPTH_y']].groupby('group')['meanLTDEPTH_y'].mean()\n",
    "del data10['meanLTDEPTH_x']\n",
    "\n",
    "mydata['LTDEPTH'].fillna(data10['meanLTDEPTH_y'],inplace=True ) \n",
    "\n",
    "mydata['LTDEPTH'].isna().value_counts()"
   ]
  },
  {
   "cell_type": "code",
   "execution_count": 43,
   "metadata": {},
   "outputs": [
    {
     "data": {
      "text/plain": [
       "False    1069271\n",
       "True        1723\n",
       "Name: LTDEPTH, dtype: int64"
      ]
     },
     "execution_count": 43,
     "metadata": {},
     "output_type": "execute_result"
    }
   ],
   "source": [
    "data['group'] = data['TAXCLASS']+data['val_level']\n",
    "table = data.groupby(['group'])['LTDEPTH'].mean()\n",
    "\n",
    "table = round(table)\n",
    "def get_matched_value(string):\n",
    "    val = table.loc[string]\n",
    "    return val\n",
    "\n",
    "\n",
    "data['meanLTDEPTH'] = data['group'].apply(get_matched_value)\n",
    "\n",
    "\n",
    "dt1= data.groupby(['group']).agg({'meanLTDEPTH':'mean','RECORD':'count'})\n",
    "dt10=dt1.query('RECORD>=10').reset_index()\n",
    "\n",
    "data10=data.merge(dt10, on =['group'], how = 'left')\n",
    "data10[['group','meanLTDEPTH_y']].groupby('group')['meanLTDEPTH_y'].mean()\n",
    "del data10['meanLTDEPTH_x']\n",
    "\n",
    "mydata['LTDEPTH'].fillna(data10['meanLTDEPTH_y'],inplace=True ) \n",
    "\n",
    "mydata['LTDEPTH'].isna().value_counts()"
   ]
  },
  {
   "cell_type": "code",
   "execution_count": 44,
   "metadata": {},
   "outputs": [
    {
     "data": {
      "text/plain": [
       "False    1070951\n",
       "True          43\n",
       "Name: LTDEPTH, dtype: int64"
      ]
     },
     "execution_count": 44,
     "metadata": {},
     "output_type": "execute_result"
    }
   ],
   "source": [
    "data['group'] = data['STORIES']+'.'+data['val_level']\n",
    "table = data.groupby(['group'])['LTDEPTH'].mean()\n",
    "\n",
    "table = round(table)\n",
    "def get_matched_value(string):\n",
    "    val = table.loc[string]\n",
    "    return val\n",
    "\n",
    "\n",
    "data['meanLTDEPTH'] = data['group'].apply(get_matched_value)\n",
    "\n",
    "\n",
    "dt1= data.groupby(['group']).agg({'meanLTDEPTH':'mean','RECORD':'count'})\n",
    "dt10=dt1.query('RECORD>=10').reset_index()\n",
    "\n",
    "data10=data.merge(dt10, on =['group'], how = 'left')\n",
    "data10[['group','meanLTDEPTH_y']].groupby('group')['meanLTDEPTH_y'].mean()\n",
    "del data10['meanLTDEPTH_x']\n",
    "\n",
    "mydata['LTDEPTH'].fillna(data10['meanLTDEPTH_y'],inplace=True ) \n",
    "\n",
    "mydata['LTDEPTH'].isna().value_counts()"
   ]
  },
  {
   "cell_type": "code",
   "execution_count": 45,
   "metadata": {},
   "outputs": [
    {
     "data": {
      "text/plain": [
       "False    1070993\n",
       "True           1\n",
       "Name: LTDEPTH, dtype: int64"
      ]
     },
     "execution_count": 45,
     "metadata": {},
     "output_type": "execute_result"
    }
   ],
   "source": [
    "data['group'] = data['val_level']\n",
    "table = data.groupby(['group'])['LTDEPTH'].mean()\n",
    "\n",
    "table = round(table)\n",
    "def get_matched_value(string):\n",
    "    val = table.loc[string]\n",
    "    return val\n",
    "\n",
    "\n",
    "data['meanLTDEPTH'] = data['group'].apply(get_matched_value)\n",
    "\n",
    "\n",
    "dt1= data.groupby(['group']).agg({'meanLTDEPTH':'mean','RECORD':'count'})\n",
    "dt10=dt1.query('RECORD>=0').reset_index()\n",
    "\n",
    "data10=data.merge(dt10, on =['group'], how = 'left')\n",
    "data10[['group','meanLTDEPTH_y']].groupby('group')['meanLTDEPTH_y'].mean()\n",
    "del data10['meanLTDEPTH_x']\n",
    "\n",
    "mydata['LTDEPTH'].fillna(data10['meanLTDEPTH_y'],inplace=True ) \n",
    "\n",
    "mydata['LTDEPTH'].isna().value_counts()"
   ]
  },
  {
   "cell_type": "code",
   "execution_count": 46,
   "metadata": {},
   "outputs": [
    {
     "data": {
      "text/plain": [
       "False    1070994\n",
       "Name: LTDEPTH, dtype: int64"
      ]
     },
     "execution_count": 46,
     "metadata": {},
     "output_type": "execute_result"
    }
   ],
   "source": [
    "data['group'] = data['STORIES']\n",
    "table = data.groupby(['group'])['LTDEPTH'].mean()\n",
    "\n",
    "table = round(table)\n",
    "def get_matched_value(string):\n",
    "    val = table.loc[string]\n",
    "    return val\n",
    "\n",
    "\n",
    "data['meanLTDEPTH'] = data['group'].apply(get_matched_value)\n",
    "\n",
    "\n",
    "dt1= data.groupby(['group']).agg({'meanLTDEPTH':'mean','RECORD':'count'})\n",
    "dt10=dt1.query('RECORD>=0').reset_index()\n",
    "\n",
    "data10=data.merge(dt10, on =['group'], how = 'left')\n",
    "data10[['group','meanLTDEPTH_y']].groupby('group')['meanLTDEPTH_y'].mean()\n",
    "del data10['meanLTDEPTH_x']\n",
    "\n",
    "mydata['LTDEPTH'].fillna(data10['meanLTDEPTH_y'],inplace=True ) \n",
    "\n",
    "mydata['LTDEPTH'].isna().value_counts()"
   ]
  },
  {
   "cell_type": "markdown",
   "metadata": {},
   "source": [
    "BLDFRONT"
   ]
  },
  {
   "cell_type": "code",
   "execution_count": 47,
   "metadata": {},
   "outputs": [
    {
     "data": {
      "text/plain": [
       "False    842179\n",
       "True     228815\n",
       "Name: BLDFRONT, dtype: int64"
      ]
     },
     "execution_count": 47,
     "metadata": {},
     "output_type": "execute_result"
    }
   ],
   "source": [
    "mydata['BLDFRONT']=mydata['BLDFRONT'].replace(0, np.nan)\n",
    "mydata['BLDFRONT'].isna().value_counts()"
   ]
  },
  {
   "cell_type": "code",
   "execution_count": 49,
   "metadata": {},
   "outputs": [
    {
     "data": {
      "text/plain": [
       "False    851998\n",
       "True     218996\n",
       "Name: BLDFRONT, dtype: int64"
      ]
     },
     "execution_count": 49,
     "metadata": {},
     "output_type": "execute_result"
    }
   ],
   "source": [
    "\n",
    "data['group'] = data['TAXCLASS']+'.'+data['ZIP']+'.'+data['STORIES']+'.'+data['val_level']\n",
    "table = data.groupby(['group'])['BLDFRONT'].mean()\n",
    "\n",
    "table = round(table)\n",
    "def get_matched_value(string):\n",
    "    val = table.loc[string]\n",
    "    return val\n",
    "\n",
    "\n",
    "data['meanBLDFRONT'] = data['group'].apply(get_matched_value)\n",
    "\n",
    "\n",
    "dt1= data.groupby(['group']).agg({'meanBLDFRONT':'mean','RECORD':'count'})\n",
    "dt10=dt1.query('RECORD>=10').reset_index()\n",
    "\n",
    "data10=data.merge(dt10, on =['group'], how = 'left')\n",
    "data10[['group','meanBLDFRONT_y']].groupby('group')['meanBLDFRONT_y'].mean()\n",
    "del data10['meanBLDFRONT_x']\n",
    "\n",
    "mydata['BLDFRONT'].fillna(data10['meanBLDFRONT_y'],inplace=True ) \n",
    "\n",
    "mydata['BLDFRONT'].isna().value_counts()"
   ]
  },
  {
   "cell_type": "code",
   "execution_count": 50,
   "metadata": {},
   "outputs": [
    {
     "data": {
      "text/plain": [
       "False    949764\n",
       "True     121230\n",
       "Name: BLDFRONT, dtype: int64"
      ]
     },
     "execution_count": 50,
     "metadata": {},
     "output_type": "execute_result"
    }
   ],
   "source": [
    "\n",
    "data['group'] = data['TAXCLASS']+data['STORIES']+'.'+data['val_level']\n",
    "table = data.groupby(['group'])['BLDFRONT'].mean()\n",
    "\n",
    "table = round(table)\n",
    "def get_matched_value(string):\n",
    "    val = table.loc[string]\n",
    "    return val\n",
    "\n",
    "\n",
    "data['meanBLDFRONT'] = data['group'].apply(get_matched_value)\n",
    "\n",
    "\n",
    "dt1= data.groupby(['group']).agg({'meanBLDFRONT':'mean','RECORD':'count'})\n",
    "dt10=dt1.query('RECORD>=10').reset_index()\n",
    "\n",
    "data10=data.merge(dt10, on =['group'], how = 'left')\n",
    "data10[['group','meanBLDFRONT_y']].groupby('group')['meanBLDFRONT_y'].mean()\n",
    "del data10['meanBLDFRONT_x']\n",
    "\n",
    "mydata['BLDFRONT'].fillna(data10['meanBLDFRONT_y'],inplace=True ) \n",
    "\n",
    "mydata['BLDFRONT'].isna().value_counts()"
   ]
  },
  {
   "cell_type": "code",
   "execution_count": 51,
   "metadata": {},
   "outputs": [
    {
     "data": {
      "text/plain": [
       "False    1040434\n",
       "True       30560\n",
       "Name: BLDFRONT, dtype: int64"
      ]
     },
     "execution_count": 51,
     "metadata": {},
     "output_type": "execute_result"
    }
   ],
   "source": [
    "data['group'] = data['TAXCLASS']+'.'data['val_level']\n",
    "table = data.groupby(['group'])['BLDFRONT'].mean()\n",
    "\n",
    "table = round(table)\n",
    "def get_matched_value(string):\n",
    "    val = table.loc[string]\n",
    "    return val\n",
    "\n",
    "\n",
    "data['meanBLDFRONT'] = data['group'].apply(get_matched_value)\n",
    "\n",
    "\n",
    "dt1= data.groupby(['group']).agg({'meanBLDFRONT':'mean','RECORD':'count'})\n",
    "dt10=dt1.query('RECORD>=10').reset_index()\n",
    "\n",
    "data10=data.merge(dt10, on =['group'], how = 'left')\n",
    "data10[['group','meanBLDFRONT_y']].groupby('group')['meanBLDFRONT_y'].mean()\n",
    "del data10['meanBLDFRONT_x']\n",
    "\n",
    "mydata['BLDFRONT'].fillna(data10['meanBLDFRONT_y'],inplace=True ) \n",
    "\n",
    "mydata['BLDFRONT'].isna().value_counts()"
   ]
  },
  {
   "cell_type": "code",
   "execution_count": 52,
   "metadata": {},
   "outputs": [
    {
     "data": {
      "text/plain": [
       "False    1070313\n",
       "True         681\n",
       "Name: BLDFRONT, dtype: int64"
      ]
     },
     "execution_count": 52,
     "metadata": {},
     "output_type": "execute_result"
    }
   ],
   "source": [
    "data['group'] = data['STORIES']+'.'+data['val_level']\n",
    "table = data.groupby(['group'])['BLDFRONT'].mean()\n",
    "\n",
    "table = round(table)\n",
    "def get_matched_value(string):\n",
    "    val = table.loc[string]\n",
    "    return val\n",
    "\n",
    "\n",
    "data['meanBLDFRONT'] = data['group'].apply(get_matched_value)\n",
    "\n",
    "\n",
    "dt1= data.groupby(['group']).agg({'meanBLDFRONT':'mean','RECORD':'count'})\n",
    "dt10=dt1.query('RECORD>=10').reset_index()\n",
    "\n",
    "data10=data.merge(dt10, on =['group'], how = 'left')\n",
    "data10[['group','meanBLDFRONT_y']].groupby('group')['meanBLDFRONT_y'].mean()\n",
    "del data10['meanBLDFRONT_x']\n",
    "\n",
    "mydata['BLDFRONT'].fillna(data10['meanBLDFRONT_y'],inplace=True ) \n",
    "\n",
    "mydata['BLDFRONT'].isna().value_counts()"
   ]
  },
  {
   "cell_type": "code",
   "execution_count": 53,
   "metadata": {},
   "outputs": [
    {
     "data": {
      "text/plain": [
       "False    1070983\n",
       "True          11\n",
       "Name: BLDFRONT, dtype: int64"
      ]
     },
     "execution_count": 53,
     "metadata": {},
     "output_type": "execute_result"
    }
   ],
   "source": [
    "data['group'] =data['val_level']\n",
    "table = data.groupby(['group'])['BLDFRONT'].mean()\n",
    "\n",
    "table = round(table)\n",
    "def get_matched_value(string):\n",
    "    val = table.loc[string]\n",
    "    return val\n",
    "\n",
    "\n",
    "data['meanBLDFRONT'] = data['group'].apply(get_matched_value)\n",
    "\n",
    "\n",
    "dt1= data.groupby(['group']).agg({'meanBLDFRONT':'mean','RECORD':'count'})\n",
    "dt10=dt1.query('RECORD>=0').reset_index()\n",
    "\n",
    "data10=data.merge(dt10, on =['group'], how = 'left')\n",
    "data10[['group','meanBLDFRONT_y']].groupby('group')['meanBLDFRONT_y'].mean()\n",
    "del data10['meanBLDFRONT_x']\n",
    "\n",
    "mydata['BLDFRONT'].fillna(data10['meanBLDFRONT_y'],inplace=True ) \n",
    "\n",
    "mydata['BLDFRONT'].isna().value_counts()"
   ]
  },
  {
   "cell_type": "code",
   "execution_count": 55,
   "metadata": {},
   "outputs": [
    {
     "data": {
      "text/plain": [
       "False    1070994\n",
       "Name: BLDFRONT, dtype: int64"
      ]
     },
     "execution_count": 55,
     "metadata": {},
     "output_type": "execute_result"
    }
   ],
   "source": [
    "data['group'] = data['TAXCLASS']\n",
    "table = data.groupby(['group'])['BLDFRONT'].mean()\n",
    "\n",
    "table = round(table)\n",
    "def get_matched_value(string):\n",
    "    val = table.loc[string]\n",
    "    return val\n",
    "\n",
    "\n",
    "data['meanBLDFRONT'] = data['group'].apply(get_matched_value)\n",
    "\n",
    "\n",
    "dt1= data.groupby(['group']).agg({'meanBLDFRONT':'mean','RECORD':'count'})\n",
    "dt10=dt1.query('RECORD>=0').reset_index()\n",
    "\n",
    "data10=data.merge(dt10, on =['group'], how = 'left')\n",
    "data10[['group','meanBLDFRONT_y']].groupby('group')['meanBLDFRONT_y'].mean()\n",
    "del data10['meanBLDFRONT_x']\n",
    "\n",
    "mydata['BLDFRONT'].fillna(data10['meanBLDFRONT_y'],inplace=True ) \n",
    "\n",
    "mydata['BLDFRONT'].isna().value_counts()"
   ]
  },
  {
   "cell_type": "markdown",
   "metadata": {},
   "source": [
    "BLDDEPTH"
   ]
  },
  {
   "cell_type": "code",
   "execution_count": 56,
   "metadata": {},
   "outputs": [
    {
     "data": {
      "text/plain": [
       "False    842141\n",
       "True     228853\n",
       "Name: BLDDEPTH, dtype: int64"
      ]
     },
     "execution_count": 56,
     "metadata": {},
     "output_type": "execute_result"
    }
   ],
   "source": [
    "mydata['BLDDEPTH']=mydata['BLDDEPTH'].replace(0, np.nan)\n",
    "mydata['BLDDEPTH'].isna().value_counts()"
   ]
  },
  {
   "cell_type": "code",
   "execution_count": 57,
   "metadata": {},
   "outputs": [
    {
     "data": {
      "text/plain": [
       "False    851945\n",
       "True     219049\n",
       "Name: BLDDEPTH, dtype: int64"
      ]
     },
     "execution_count": 57,
     "metadata": {},
     "output_type": "execute_result"
    }
   ],
   "source": [
    "\n",
    "data['group'] = data['TAXCLASS']+'.'+data['ZIP']+'.'+data['STORIES']+'.'+data['val_level']\n",
    "table = data.groupby(['group'])['BLDDEPTH'].mean()\n",
    "\n",
    "table = round(table)\n",
    "def get_matched_value(string):\n",
    "    val = table.loc[string]\n",
    "    return val\n",
    "\n",
    "\n",
    "data['meanBLDDEPTH'] = data['group'].apply(get_matched_value)\n",
    "\n",
    "\n",
    "dt1= data.groupby(['group']).agg({'meanBLDDEPTH':'mean','RECORD':'count'})\n",
    "dt10=dt1.query('RECORD>=10').reset_index()\n",
    "\n",
    "data10=data.merge(dt10, on =['group'], how = 'left')\n",
    "data10[['group','meanBLDDEPTH_y']].groupby('group')['meanBLDDEPTH_y'].mean()\n",
    "del data10['meanBLDDEPTH_x']\n",
    "\n",
    "mydata['BLDDEPTH'].fillna(data10['meanBLDDEPTH_y'],inplace=True ) \n",
    "\n",
    "mydata['BLDDEPTH'].isna().value_counts()"
   ]
  },
  {
   "cell_type": "code",
   "execution_count": 58,
   "metadata": {},
   "outputs": [
    {
     "data": {
      "text/plain": [
       "False    949638\n",
       "True     121356\n",
       "Name: BLDDEPTH, dtype: int64"
      ]
     },
     "execution_count": 58,
     "metadata": {},
     "output_type": "execute_result"
    }
   ],
   "source": [
    "data['group'] = data['TAXCLASS']+'.'+data['STORIES']+'.'+data['val_level']\n",
    "table = data.groupby(['group'])['BLDDEPTH'].mean()\n",
    "\n",
    "table = round(table)\n",
    "def get_matched_value(string):\n",
    "    val = table.loc[string]\n",
    "    return val\n",
    "\n",
    "\n",
    "data['meanBLDDEPTH'] = data['group'].apply(get_matched_value)\n",
    "\n",
    "\n",
    "dt1= data.groupby(['group']).agg({'meanBLDDEPTH':'mean','RECORD':'count'})\n",
    "dt10=dt1.query('RECORD>=10').reset_index()\n",
    "\n",
    "data10=data.merge(dt10, on =['group'], how = 'left')\n",
    "data10[['group','meanBLDDEPTH_y']].groupby('group')['meanBLDDEPTH_y'].mean()\n",
    "del data10['meanBLDDEPTH_x']\n",
    "\n",
    "mydata['BLDDEPTH'].fillna(data10['meanBLDDEPTH_y'],inplace=True ) \n",
    "\n",
    "mydata['BLDDEPTH'].isna().value_counts()"
   ]
  },
  {
   "cell_type": "code",
   "execution_count": 59,
   "metadata": {},
   "outputs": [
    {
     "data": {
      "text/plain": [
       "False    1040503\n",
       "True       30491\n",
       "Name: BLDDEPTH, dtype: int64"
      ]
     },
     "execution_count": 59,
     "metadata": {},
     "output_type": "execute_result"
    }
   ],
   "source": [
    "data['group'] = data['TAXCLASS']+'.'+data['val_level']\n",
    "table = data.groupby(['group'])['BLDDEPTH'].mean()\n",
    "\n",
    "table = round(table)\n",
    "def get_matched_value(string):\n",
    "    val = table.loc[string]\n",
    "    return val\n",
    "\n",
    "\n",
    "data['meanBLDDEPTH'] = data['group'].apply(get_matched_value)\n",
    "\n",
    "\n",
    "dt1= data.groupby(['group']).agg({'meanBLDDEPTH':'mean','RECORD':'count'})\n",
    "dt10=dt1.query('RECORD>=10').reset_index()\n",
    "\n",
    "data10=data.merge(dt10, on =['group'], how = 'left')\n",
    "data10[['group','meanBLDDEPTH_y']].groupby('group')['meanBLDDEPTH_y'].mean()\n",
    "del data10['meanBLDDEPTH_x']\n",
    "\n",
    "mydata['BLDDEPTH'].fillna(data10['meanBLDDEPTH_y'],inplace=True ) \n",
    "\n",
    "mydata['BLDDEPTH'].isna().value_counts()"
   ]
  },
  {
   "cell_type": "code",
   "execution_count": 60,
   "metadata": {},
   "outputs": [
    {
     "data": {
      "text/plain": [
       "False    1070314\n",
       "True         680\n",
       "Name: BLDDEPTH, dtype: int64"
      ]
     },
     "execution_count": 60,
     "metadata": {},
     "output_type": "execute_result"
    }
   ],
   "source": [
    "data['group'] = data['STORIES']+'.'+data['val_level']\n",
    "table = data.groupby(['group'])['BLDDEPTH'].mean()\n",
    "\n",
    "table = round(table)\n",
    "def get_matched_value(string):\n",
    "    val = table.loc[string]\n",
    "    return val\n",
    "\n",
    "\n",
    "data['meanBLDDEPTH'] = data['group'].apply(get_matched_value)\n",
    "\n",
    "\n",
    "dt1= data.groupby(['group']).agg({'meanBLDDEPTH':'mean','RECORD':'count'})\n",
    "dt10=dt1.query('RECORD>=10').reset_index()\n",
    "\n",
    "data10=data.merge(dt10, on =['group'], how = 'left')\n",
    "data10[['group','meanBLDDEPTH_y']].groupby('group')['meanBLDDEPTH_y'].mean()\n",
    "del data10['meanBLDDEPTH_x']\n",
    "\n",
    "mydata['BLDDEPTH'].fillna(data10['meanBLDDEPTH_y'],inplace=True ) \n",
    "\n",
    "mydata['BLDDEPTH'].isna().value_counts()"
   ]
  },
  {
   "cell_type": "code",
   "execution_count": 61,
   "metadata": {},
   "outputs": [
    {
     "data": {
      "text/plain": [
       "False    1070931\n",
       "True          63\n",
       "Name: BLDDEPTH, dtype: int64"
      ]
     },
     "execution_count": 61,
     "metadata": {},
     "output_type": "execute_result"
    }
   ],
   "source": [
    "data['group'] = data['val_level']\n",
    "table = data.groupby(['group'])['BLDDEPTH'].mean()\n",
    "\n",
    "table = round(table)\n",
    "def get_matched_value(string):\n",
    "    val = table.loc[string]\n",
    "    return val\n",
    "\n",
    "\n",
    "data['meanBLDDEPTH'] = data['group'].apply(get_matched_value)\n",
    "\n",
    "\n",
    "dt1= data.groupby(['group']).agg({'meanBLDDEPTH':'mean','RECORD':'count'})\n",
    "dt10=dt1.query('RECORD>=10').reset_index()\n",
    "\n",
    "data10=data.merge(dt10, on =['group'], how = 'left')\n",
    "data10[['group','meanBLDDEPTH_y']].groupby('group')['meanBLDDEPTH_y'].mean()\n",
    "del data10['meanBLDDEPTH_x']\n",
    "\n",
    "mydata['BLDDEPTH'].fillna(data10['meanBLDDEPTH_y'],inplace=True ) \n",
    "\n",
    "mydata['BLDDEPTH'].isna().value_counts()"
   ]
  },
  {
   "cell_type": "code",
   "execution_count": 62,
   "metadata": {},
   "outputs": [
    {
     "data": {
      "text/plain": [
       "False    1070994\n",
       "Name: BLDDEPTH, dtype: int64"
      ]
     },
     "execution_count": 62,
     "metadata": {},
     "output_type": "execute_result"
    }
   ],
   "source": [
    "data['group'] = data['TAXCLASS']\n",
    "table = data.groupby(['group'])['BLDDEPTH'].mean()\n",
    "\n",
    "table = round(table)\n",
    "def get_matched_value(string):\n",
    "    val = table.loc[string]\n",
    "    return val\n",
    "\n",
    "\n",
    "data['meanBLDDEPTH'] = data['group'].apply(get_matched_value)\n",
    "\n",
    "\n",
    "dt1= data.groupby(['group']).agg({'meanBLDDEPTH':'mean','RECORD':'count'})\n",
    "dt10=dt1.query('RECORD>=10').reset_index()\n",
    "\n",
    "data10=data.merge(dt10, on =['group'], how = 'left')\n",
    "data10[['group','meanBLDDEPTH_y']].groupby('group')['meanBLDDEPTH_y'].mean()\n",
    "del data10['meanBLDDEPTH_x']\n",
    "\n",
    "mydata['BLDDEPTH'].fillna(data10['meanBLDDEPTH_y'],inplace=True ) \n",
    "\n",
    "mydata['BLDDEPTH'].isna().value_counts()"
   ]
  },
  {
   "cell_type": "code",
   "execution_count": null,
   "metadata": {},
   "outputs": [],
   "source": []
  },
  {
   "cell_type": "code",
   "execution_count": null,
   "metadata": {},
   "outputs": [],
   "source": []
  },
  {
   "cell_type": "markdown",
   "metadata": {},
   "source": [
    "Check unusual points in our previous result"
   ]
  },
  {
   "cell_type": "code",
   "execution_count": 27,
   "metadata": {},
   "outputs": [
    {
     "data": {
      "text/html": [
       "<div>\n",
       "<style scoped>\n",
       "    .dataframe tbody tr th:only-of-type {\n",
       "        vertical-align: middle;\n",
       "    }\n",
       "\n",
       "    .dataframe tbody tr th {\n",
       "        vertical-align: top;\n",
       "    }\n",
       "\n",
       "    .dataframe thead th {\n",
       "        text-align: right;\n",
       "    }\n",
       "</style>\n",
       "<table border=\"1\" class=\"dataframe\">\n",
       "  <thead>\n",
       "    <tr style=\"text-align: right;\">\n",
       "      <th></th>\n",
       "      <th>FULLVAL</th>\n",
       "      <th>AVLAND</th>\n",
       "      <th>AVTOT</th>\n",
       "      <th>ZIP</th>\n",
       "      <th>STORIES</th>\n",
       "    </tr>\n",
       "  </thead>\n",
       "  <tbody>\n",
       "    <tr>\n",
       "      <th>684703</th>\n",
       "      <td>41423.0</td>\n",
       "      <td>814.0</td>\n",
       "      <td>814.0</td>\n",
       "      <td>11385.0</td>\n",
       "      <td>2.0</td>\n",
       "    </tr>\n",
       "  </tbody>\n",
       "</table>\n",
       "</div>"
      ],
      "text/plain": [
       "        FULLVAL  AVLAND  AVTOT      ZIP STORIES\n",
       "684703  41423.0   814.0  814.0  11385.0     2.0"
      ]
     },
     "execution_count": 27,
     "metadata": {},
     "output_type": "execute_result"
    }
   ],
   "source": [
    "mydata[['FULLVAL','AVLAND','AVTOT','ZIP','STORIES']][mydata['RECORD']==684704]"
   ]
  },
  {
   "cell_type": "code",
   "execution_count": 28,
   "metadata": {},
   "outputs": [
    {
     "data": {
      "text/html": [
       "<div>\n",
       "<style scoped>\n",
       "    .dataframe tbody tr th:only-of-type {\n",
       "        vertical-align: middle;\n",
       "    }\n",
       "\n",
       "    .dataframe tbody tr th {\n",
       "        vertical-align: top;\n",
       "    }\n",
       "\n",
       "    .dataframe thead th {\n",
       "        text-align: right;\n",
       "    }\n",
       "</style>\n",
       "<table border=\"1\" class=\"dataframe\">\n",
       "  <thead>\n",
       "    <tr style=\"text-align: right;\">\n",
       "      <th></th>\n",
       "      <th>FULLVAL</th>\n",
       "      <th>AVLAND</th>\n",
       "      <th>AVTOT</th>\n",
       "      <th>ZIP</th>\n",
       "      <th>STORIES</th>\n",
       "    </tr>\n",
       "  </thead>\n",
       "  <tbody>\n",
       "    <tr>\n",
       "      <th>776305</th>\n",
       "      <td>109055.0</td>\n",
       "      <td>19109.0</td>\n",
       "      <td>49075.0</td>\n",
       "      <td>11385.0</td>\n",
       "      <td>1.0</td>\n",
       "    </tr>\n",
       "  </tbody>\n",
       "</table>\n",
       "</div>"
      ],
      "text/plain": [
       "         FULLVAL   AVLAND    AVTOT      ZIP STORIES\n",
       "776305  109055.0  19109.0  49075.0  11385.0     1.0"
      ]
     },
     "execution_count": 28,
     "metadata": {},
     "output_type": "execute_result"
    }
   ],
   "source": [
    "mydata[['FULLVAL','AVLAND','AVTOT','ZIP','STORIES']][mydata['RECORD']==776306]"
   ]
  },
  {
   "cell_type": "code",
   "execution_count": 29,
   "metadata": {},
   "outputs": [
    {
     "data": {
      "text/html": [
       "<div>\n",
       "<style scoped>\n",
       "    .dataframe tbody tr th:only-of-type {\n",
       "        vertical-align: middle;\n",
       "    }\n",
       "\n",
       "    .dataframe tbody tr th {\n",
       "        vertical-align: top;\n",
       "    }\n",
       "\n",
       "    .dataframe thead th {\n",
       "        text-align: right;\n",
       "    }\n",
       "</style>\n",
       "<table border=\"1\" class=\"dataframe\">\n",
       "  <thead>\n",
       "    <tr style=\"text-align: right;\">\n",
       "      <th></th>\n",
       "      <th>FULLVAL</th>\n",
       "      <th>AVLAND</th>\n",
       "      <th>AVTOT</th>\n",
       "      <th>ZIP</th>\n",
       "      <th>STORIES</th>\n",
       "    </tr>\n",
       "  </thead>\n",
       "  <tbody>\n",
       "    <tr>\n",
       "      <th>821852</th>\n",
       "      <td>227597.0</td>\n",
       "      <td>12656.0</td>\n",
       "      <td>48912.0</td>\n",
       "      <td>11432.0</td>\n",
       "      <td>4.0</td>\n",
       "    </tr>\n",
       "  </tbody>\n",
       "</table>\n",
       "</div>"
      ],
      "text/plain": [
       "         FULLVAL   AVLAND    AVTOT      ZIP STORIES\n",
       "821852  227597.0  12656.0  48912.0  11432.0     4.0"
      ]
     },
     "execution_count": 29,
     "metadata": {},
     "output_type": "execute_result"
    }
   ],
   "source": [
    "mydata[['FULLVAL','AVLAND','AVTOT','ZIP','STORIES']][mydata['RECORD']==821853]"
   ]
  },
  {
   "cell_type": "code",
   "execution_count": 63,
   "metadata": {},
   "outputs": [
    {
     "data": {
      "text/html": [
       "<div>\n",
       "<style scoped>\n",
       "    .dataframe tbody tr th:only-of-type {\n",
       "        vertical-align: middle;\n",
       "    }\n",
       "\n",
       "    .dataframe tbody tr th {\n",
       "        vertical-align: top;\n",
       "    }\n",
       "\n",
       "    .dataframe thead th {\n",
       "        text-align: right;\n",
       "    }\n",
       "</style>\n",
       "<table border=\"1\" class=\"dataframe\">\n",
       "  <thead>\n",
       "    <tr style=\"text-align: right;\">\n",
       "      <th></th>\n",
       "      <th>LTFRONT</th>\n",
       "      <th>LTDEPTH</th>\n",
       "      <th>BLDDEPTH</th>\n",
       "      <th>BLDFRONT</th>\n",
       "      <th>FULLVAL</th>\n",
       "      <th>AVLAND</th>\n",
       "      <th>AVTOT</th>\n",
       "      <th>ZIP</th>\n",
       "      <th>STORIES</th>\n",
       "    </tr>\n",
       "  </thead>\n",
       "  <tbody>\n",
       "    <tr>\n",
       "      <th>917941</th>\n",
       "      <td>4910.0</td>\n",
       "      <td>3028.0</td>\n",
       "      <td>81.0</td>\n",
       "      <td>380.0</td>\n",
       "      <td>374019883.0</td>\n",
       "      <td>1.792809e+09</td>\n",
       "      <td>4.668309e+09</td>\n",
       "      <td>11422.0</td>\n",
       "      <td>3.0</td>\n",
       "    </tr>\n",
       "  </tbody>\n",
       "</table>\n",
       "</div>"
      ],
      "text/plain": [
       "        LTFRONT  LTDEPTH  BLDDEPTH  BLDFRONT      FULLVAL        AVLAND  \\\n",
       "917941   4910.0   3028.0      81.0     380.0  374019883.0  1.792809e+09   \n",
       "\n",
       "               AVTOT      ZIP STORIES  \n",
       "917941  4.668309e+09  11422.0     3.0  "
      ]
     },
     "execution_count": 63,
     "metadata": {},
     "output_type": "execute_result"
    }
   ],
   "source": [
    "mydata[['LTFRONT','LTDEPTH','BLDDEPTH','BLDFRONT','FULLVAL','AVLAND','AVTOT','ZIP','STORIES']][mydata['RECORD']==917942]"
   ]
  },
  {
   "cell_type": "code",
   "execution_count": null,
   "metadata": {},
   "outputs": [],
   "source": []
  },
  {
   "cell_type": "code",
   "execution_count": 66,
   "metadata": {},
   "outputs": [
    {
     "data": {
      "text/plain": [
       "Index(['Unnamed: 0', 'RECORD', 'BBLE', 'B', 'BLOCK', 'LOT', 'EASEMENT',\n",
       "       'OWNER', 'BLDGCL', 'TAXCLASS', 'LTFRONT', 'LTDEPTH', 'EXT', 'STORIES',\n",
       "       'FULLVAL', 'AVLAND', 'AVTOT', 'EXLAND', 'EXTOT', 'EXCD1', 'STADDR',\n",
       "       'ZIP', 'EXMPTCL', 'BLDFRONT', 'BLDDEPTH', 'AVLAND2', 'AVTOT2',\n",
       "       'EXLAND2', 'EXTOT2', 'EXCD2', 'PERIOD', 'YEAR', 'VALTYPE', 'new',\n",
       "       'area_level', 'group', 'meanFULLVAL', 'meanAVLAND', 'meanAVTOT',\n",
       "       'meanvalue', 'meanvalvalue', 'val_level', 'meanLTFRONT', 'meanLTDEPTH',\n",
       "       'meanBLDFRONT', 'meanBLDDEPTH'],\n",
       "      dtype='object')"
      ]
     },
     "execution_count": 66,
     "metadata": {},
     "output_type": "execute_result"
    }
   ],
   "source": [
    "mydata.columns"
   ]
  },
  {
   "cell_type": "code",
   "execution_count": 80,
   "metadata": {},
   "outputs": [],
   "source": [
    "\n",
    "del mydata['new']\n",
    "del mydata['area_level']\n",
    "del mydata['group']\n",
    "del mydata['meanFULLVAL']\n",
    "del mydata['meanAVLAND']\n",
    "del mydata['meanAVTOT']\n",
    "del mydata['meanvalvalue']\n",
    "del mydata['val_level']\n",
    "del mydata['meanLTFRONT']\n",
    "del mydata['meanLTDEPTH']\n",
    "del mydata['meanBLDFRONT']\n",
    "del mydata['meanBLDDEPTH']\n"
   ]
  },
  {
   "cell_type": "code",
   "execution_count": null,
   "metadata": {},
   "outputs": [],
   "source": []
  },
  {
   "cell_type": "code",
   "execution_count": 81,
   "metadata": {},
   "outputs": [],
   "source": [
    "pd.DataFrame(mydata).to_csv('NY property data_filled_Revised.csv')"
   ]
  },
  {
   "cell_type": "code",
   "execution_count": null,
   "metadata": {},
   "outputs": [],
   "source": []
  },
  {
   "cell_type": "code",
   "execution_count": null,
   "metadata": {},
   "outputs": [],
   "source": []
  },
  {
   "cell_type": "code",
   "execution_count": null,
   "metadata": {},
   "outputs": [],
   "source": []
  },
  {
   "cell_type": "code",
   "execution_count": null,
   "metadata": {},
   "outputs": [],
   "source": []
  },
  {
   "cell_type": "code",
   "execution_count": null,
   "metadata": {},
   "outputs": [],
   "source": []
  },
  {
   "cell_type": "code",
   "execution_count": null,
   "metadata": {},
   "outputs": [],
   "source": []
  },
  {
   "cell_type": "code",
   "execution_count": null,
   "metadata": {},
   "outputs": [],
   "source": []
  },
  {
   "cell_type": "code",
   "execution_count": null,
   "metadata": {},
   "outputs": [],
   "source": []
  },
  {
   "cell_type": "code",
   "execution_count": null,
   "metadata": {},
   "outputs": [],
   "source": []
  },
  {
   "cell_type": "code",
   "execution_count": null,
   "metadata": {},
   "outputs": [],
   "source": []
  }
 ],
 "metadata": {
  "kernelspec": {
   "display_name": "Python 3",
   "language": "python",
   "name": "python3"
  },
  "language_info": {
   "codemirror_mode": {
    "name": "ipython",
    "version": 3
   },
   "file_extension": ".py",
   "mimetype": "text/x-python",
   "name": "python",
   "nbconvert_exporter": "python",
   "pygments_lexer": "ipython3",
   "version": "3.6.5"
  }
 },
 "nbformat": 4,
 "nbformat_minor": 2
}
